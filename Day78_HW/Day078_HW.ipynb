{
 "cells": [
  {
   "cell_type": "markdown",
   "metadata": {},
   "source": [
    "## Work\n",
    "1. 請嘗試將 preproc_x 替換成以每筆資料的 min/max 進行標準化至 -1 ~ 1 間，再進行訓練\n",
    "2. 請嘗試將 mlp 疊更深 (e.g 5~10 層)，進行訓練後觀察 learning curve 的走勢\n",
    "3. (optional) 請改用 GPU 進行訓練 (如果你有 GPU 的話)，比較使用 CPU 與 GPU 的訓練速度"
   ]
  },
  {
   "cell_type": "code",
   "execution_count": 1,
   "metadata": {},
   "outputs": [],
   "source": [
    "## \n",
    "\"\"\"\n",
    "Your code here (optional)\n",
    "確認硬體資源\n",
    "\"\"\"\n"
   ]
  },
  {
   "cell_type": "code",
   "execution_count": 1,
   "metadata": {},
   "outputs": [
    {
     "name": "stderr",
     "output_type": "stream",
     "text": [
      "Using TensorFlow backend.\n",
      "C:\\Users\\195313\\Anaconda3\\lib\\site-packages\\tensorflow\\python\\framework\\dtypes.py:516: FutureWarning: Passing (type, 1) or '1type' as a synonym of type is deprecated; in a future version of numpy, it will be understood as (type, (1,)) / '(1,)type'.\n",
      "  _np_qint8 = np.dtype([(\"qint8\", np.int8, 1)])\n",
      "C:\\Users\\195313\\Anaconda3\\lib\\site-packages\\tensorflow\\python\\framework\\dtypes.py:517: FutureWarning: Passing (type, 1) or '1type' as a synonym of type is deprecated; in a future version of numpy, it will be understood as (type, (1,)) / '(1,)type'.\n",
      "  _np_quint8 = np.dtype([(\"quint8\", np.uint8, 1)])\n",
      "C:\\Users\\195313\\Anaconda3\\lib\\site-packages\\tensorflow\\python\\framework\\dtypes.py:518: FutureWarning: Passing (type, 1) or '1type' as a synonym of type is deprecated; in a future version of numpy, it will be understood as (type, (1,)) / '(1,)type'.\n",
      "  _np_qint16 = np.dtype([(\"qint16\", np.int16, 1)])\n",
      "C:\\Users\\195313\\Anaconda3\\lib\\site-packages\\tensorflow\\python\\framework\\dtypes.py:519: FutureWarning: Passing (type, 1) or '1type' as a synonym of type is deprecated; in a future version of numpy, it will be understood as (type, (1,)) / '(1,)type'.\n",
      "  _np_quint16 = np.dtype([(\"quint16\", np.uint16, 1)])\n",
      "C:\\Users\\195313\\Anaconda3\\lib\\site-packages\\tensorflow\\python\\framework\\dtypes.py:520: FutureWarning: Passing (type, 1) or '1type' as a synonym of type is deprecated; in a future version of numpy, it will be understood as (type, (1,)) / '(1,)type'.\n",
      "  _np_qint32 = np.dtype([(\"qint32\", np.int32, 1)])\n",
      "C:\\Users\\195313\\Anaconda3\\lib\\site-packages\\tensorflow\\python\\framework\\dtypes.py:525: FutureWarning: Passing (type, 1) or '1type' as a synonym of type is deprecated; in a future version of numpy, it will be understood as (type, (1,)) / '(1,)type'.\n",
      "  np_resource = np.dtype([(\"resource\", np.ubyte, 1)])\n",
      "C:\\Users\\195313\\Anaconda3\\lib\\site-packages\\tensorboard\\compat\\tensorflow_stub\\dtypes.py:541: FutureWarning: Passing (type, 1) or '1type' as a synonym of type is deprecated; in a future version of numpy, it will be understood as (type, (1,)) / '(1,)type'.\n",
      "  _np_qint8 = np.dtype([(\"qint8\", np.int8, 1)])\n",
      "C:\\Users\\195313\\Anaconda3\\lib\\site-packages\\tensorboard\\compat\\tensorflow_stub\\dtypes.py:542: FutureWarning: Passing (type, 1) or '1type' as a synonym of type is deprecated; in a future version of numpy, it will be understood as (type, (1,)) / '(1,)type'.\n",
      "  _np_quint8 = np.dtype([(\"quint8\", np.uint8, 1)])\n",
      "C:\\Users\\195313\\Anaconda3\\lib\\site-packages\\tensorboard\\compat\\tensorflow_stub\\dtypes.py:543: FutureWarning: Passing (type, 1) or '1type' as a synonym of type is deprecated; in a future version of numpy, it will be understood as (type, (1,)) / '(1,)type'.\n",
      "  _np_qint16 = np.dtype([(\"qint16\", np.int16, 1)])\n",
      "C:\\Users\\195313\\Anaconda3\\lib\\site-packages\\tensorboard\\compat\\tensorflow_stub\\dtypes.py:544: FutureWarning: Passing (type, 1) or '1type' as a synonym of type is deprecated; in a future version of numpy, it will be understood as (type, (1,)) / '(1,)type'.\n",
      "  _np_quint16 = np.dtype([(\"quint16\", np.uint16, 1)])\n",
      "C:\\Users\\195313\\Anaconda3\\lib\\site-packages\\tensorboard\\compat\\tensorflow_stub\\dtypes.py:545: FutureWarning: Passing (type, 1) or '1type' as a synonym of type is deprecated; in a future version of numpy, it will be understood as (type, (1,)) / '(1,)type'.\n",
      "  _np_qint32 = np.dtype([(\"qint32\", np.int32, 1)])\n",
      "C:\\Users\\195313\\Anaconda3\\lib\\site-packages\\tensorboard\\compat\\tensorflow_stub\\dtypes.py:550: FutureWarning: Passing (type, 1) or '1type' as a synonym of type is deprecated; in a future version of numpy, it will be understood as (type, (1,)) / '(1,)type'.\n",
      "  np_resource = np.dtype([(\"resource\", np.ubyte, 1)])\n"
     ]
    }
   ],
   "source": [
    "import os\n",
    "import keras\n",
    "\n",
    "# 請嘗試設定 GPU：os.environ\n"
   ]
  },
  {
   "cell_type": "code",
   "execution_count": 2,
   "metadata": {},
   "outputs": [],
   "source": [
    "train, test = keras.datasets.cifar10.load_data()"
   ]
  },
  {
   "cell_type": "code",
   "execution_count": 6,
   "metadata": {},
   "outputs": [],
   "source": [
    "## 資料前處理\n",
    "\"\"\"\n",
    "Your code here\n",
    "\"\"\"\n",
    "def preproc_x(x, flatten=True):\n",
    "    x = x / 255.\n",
    "    if flatten:\n",
    "        x = x.reshape((len(x), -1))\n",
    "    return x\n",
    "\n",
    "def preproc_y(y, num_classes=10):\n",
    "    if y.shape[-1] == 1:\n",
    "        y = keras.utils.to_categorical(y, num_classes)\n",
    "    return y"
   ]
  },
  {
   "cell_type": "code",
   "execution_count": 7,
   "metadata": {},
   "outputs": [],
   "source": [
    "x_train, y_train = train\n",
    "x_test, y_test = test\n",
    "\n",
    "# Preproc the inputs\n",
    "x_train = preproc_x(x_train)\n",
    "x_test = preproc_x(x_test)\n",
    "\n",
    "# Preprc the outputs\n",
    "y_train = preproc_y(y_train)\n",
    "y_test = preproc_y(y_test)"
   ]
  },
  {
   "cell_type": "code",
   "execution_count": 15,
   "metadata": {},
   "outputs": [
    {
     "name": "stdout",
     "output_type": "stream",
     "text": [
      "Model: \"model_3\"\n",
      "_________________________________________________________________\n",
      "Layer (type)                 Output Shape              Param #   \n",
      "=================================================================\n",
      "input_3 (InputLayer)         (None, 3072)              0         \n",
      "_________________________________________________________________\n",
      "hidden_layer1 (Dense)        (None, 512)               1573376   \n",
      "_________________________________________________________________\n",
      "hidden_layer2 (Dense)        (None, 256)               131328    \n",
      "_________________________________________________________________\n",
      "hidden_layer3 (Dense)        (None, 128)               32896     \n",
      "_________________________________________________________________\n",
      "hidden_layer4 (Dense)        (None, 128)               16512     \n",
      "_________________________________________________________________\n",
      "hidden_layer5 (Dense)        (None, 128)               16512     \n",
      "_________________________________________________________________\n",
      "hidden_layer6 (Dense)        (None, 128)               16512     \n",
      "_________________________________________________________________\n",
      "hidden_layer7 (Dense)        (None, 128)               16512     \n",
      "_________________________________________________________________\n",
      "hidden_layer8 (Dense)        (None, 128)               16512     \n",
      "_________________________________________________________________\n",
      "hidden_layer9 (Dense)        (None, 128)               16512     \n",
      "_________________________________________________________________\n",
      "hidden_layer10 (Dense)       (None, 128)               16512     \n",
      "_________________________________________________________________\n",
      "output (Dense)               (None, 10)                1290      \n",
      "=================================================================\n",
      "Total params: 1,854,474\n",
      "Trainable params: 1,854,474\n",
      "Non-trainable params: 0\n",
      "_________________________________________________________________\n"
     ]
    }
   ],
   "source": [
    "\"\"\"Code Here\n",
    "建立你的神經網路\n",
    "\"\"\"\n",
    "def build_mlp(input_shape, output_units=10, num_neurons=[512, 256, 128,128, 128,128, 128,128, 128,128]):\n",
    "    input_layer = keras.layers.Input(input_shape)\n",
    "    \n",
    "    for i, n_units in enumerate(num_neurons):\n",
    "        if i == 0:\n",
    "            x = keras.layers.Dense(units=n_units, activation=\"relu\", name=\"hidden_layer\"+str(i+1))(input_layer)\n",
    "        else:\n",
    "            x = keras.layers.Dense(units=n_units, activation=\"relu\", name=\"hidden_layer\"+str(i+1))(x)\n",
    "    \n",
    "    out = keras.layers.Dense(units=output_units, activation=\"softmax\", name=\"output\")(x)\n",
    "    \n",
    "    model = keras.models.Model(inputs=[input_layer], outputs=[out])\n",
    "    return model\n",
    "model = build_mlp(input_shape=x_train.shape[1:])\n",
    "model.summary()"
   ]
  },
  {
   "cell_type": "code",
   "execution_count": 16,
   "metadata": {},
   "outputs": [],
   "source": [
    "## 超參數設定\n",
    "LEARNING_RATE = 0.001\n",
    "EPOCHS = 100\n",
    "BATCH_SIZE = 256"
   ]
  },
  {
   "cell_type": "code",
   "execution_count": 17,
   "metadata": {},
   "outputs": [],
   "source": [
    "optimizer = keras.optimizers.Adam(lr=LEARNING_RATE)\n",
    "model.compile(loss=\"categorical_crossentropy\", metrics=[\"accuracy\"], optimizer=optimizer)"
   ]
  },
  {
   "cell_type": "code",
   "execution_count": 18,
   "metadata": {},
   "outputs": [
    {
     "name": "stdout",
     "output_type": "stream",
     "text": [
      "WARNING:tensorflow:From C:\\Users\\195313\\Anaconda3\\lib\\site-packages\\keras\\backend\\tensorflow_backend.py:422: The name tf.global_variables is deprecated. Please use tf.compat.v1.global_variables instead.\n",
      "\n",
      "Train on 50000 samples, validate on 10000 samples\n",
      "Epoch 1/100\n",
      "50000/50000 [==============================] - 5s 98us/step - loss: 2.0354 - accuracy: 0.2255 - val_loss: 1.8685 - val_accuracy: 0.3179\n",
      "Epoch 2/100\n",
      "50000/50000 [==============================] - 5s 93us/step - loss: 1.8218 - accuracy: 0.3319 - val_loss: 1.7576 - val_accuracy: 0.3561\n",
      "Epoch 3/100\n",
      "50000/50000 [==============================] - 5s 94us/step - loss: 1.7412 - accuracy: 0.3637 - val_loss: 1.7060 - val_accuracy: 0.3797\n",
      "Epoch 4/100\n",
      "50000/50000 [==============================] - 5s 93us/step - loss: 1.6658 - accuracy: 0.3936 - val_loss: 1.6685 - val_accuracy: 0.3960\n",
      "Epoch 5/100\n",
      "50000/50000 [==============================] - 5s 92us/step - loss: 1.6093 - accuracy: 0.4173 - val_loss: 1.6216 - val_accuracy: 0.4168\n",
      "Epoch 6/100\n",
      "50000/50000 [==============================] - 5s 91us/step - loss: 1.5613 - accuracy: 0.4362 - val_loss: 1.6049 - val_accuracy: 0.4362\n",
      "Epoch 7/100\n",
      "50000/50000 [==============================] - 5s 90us/step - loss: 1.5214 - accuracy: 0.4518 - val_loss: 1.5546 - val_accuracy: 0.4441\n",
      "Epoch 8/100\n",
      "50000/50000 [==============================] - 5s 91us/step - loss: 1.4947 - accuracy: 0.4588 - val_loss: 1.5327 - val_accuracy: 0.4554\n",
      "Epoch 9/100\n",
      "50000/50000 [==============================] - 4s 90us/step - loss: 1.4692 - accuracy: 0.4710 - val_loss: 1.4697 - val_accuracy: 0.4785\n",
      "Epoch 10/100\n",
      "50000/50000 [==============================] - 5s 94us/step - loss: 1.4231 - accuracy: 0.4880 - val_loss: 1.5486 - val_accuracy: 0.4399\n",
      "Epoch 11/100\n",
      "50000/50000 [==============================] - 5s 96us/step - loss: 1.3970 - accuracy: 0.4962 - val_loss: 1.4670 - val_accuracy: 0.4840\n",
      "Epoch 12/100\n",
      "50000/50000 [==============================] - 5s 91us/step - loss: 1.3817 - accuracy: 0.5021 - val_loss: 1.4516 - val_accuracy: 0.4747\n",
      "Epoch 13/100\n",
      "50000/50000 [==============================] - 5s 92us/step - loss: 1.3516 - accuracy: 0.5141 - val_loss: 1.4570 - val_accuracy: 0.4826\n",
      "Epoch 14/100\n",
      "50000/50000 [==============================] - 5s 92us/step - loss: 1.3258 - accuracy: 0.5210 - val_loss: 1.4650 - val_accuracy: 0.4834\n",
      "Epoch 15/100\n",
      "50000/50000 [==============================] - 5s 92us/step - loss: 1.2953 - accuracy: 0.5352 - val_loss: 1.4342 - val_accuracy: 0.4903\n",
      "Epoch 16/100\n",
      "50000/50000 [==============================] - 5s 91us/step - loss: 1.2776 - accuracy: 0.5404 - val_loss: 1.4164 - val_accuracy: 0.5043\n",
      "Epoch 17/100\n",
      "50000/50000 [==============================] - 5s 91us/step - loss: 1.2593 - accuracy: 0.5483 - val_loss: 1.4722 - val_accuracy: 0.4866\n",
      "Epoch 18/100\n",
      "50000/50000 [==============================] - 5s 92us/step - loss: 1.2320 - accuracy: 0.5581 - val_loss: 1.4203 - val_accuracy: 0.5088\n",
      "Epoch 19/100\n",
      "50000/50000 [==============================] - 5s 92us/step - loss: 1.2184 - accuracy: 0.5619 - val_loss: 1.4148 - val_accuracy: 0.4948\n",
      "Epoch 20/100\n",
      "50000/50000 [==============================] - 5s 91us/step - loss: 1.1914 - accuracy: 0.5707 - val_loss: 1.4058 - val_accuracy: 0.5110\n",
      "Epoch 21/100\n",
      "50000/50000 [==============================] - 5s 92us/step - loss: 1.1751 - accuracy: 0.5809 - val_loss: 1.4197 - val_accuracy: 0.5134\n",
      "Epoch 22/100\n",
      "50000/50000 [==============================] - 5s 90us/step - loss: 1.1586 - accuracy: 0.5825 - val_loss: 1.4220 - val_accuracy: 0.5077\n",
      "Epoch 23/100\n",
      "50000/50000 [==============================] - 5s 91us/step - loss: 1.1369 - accuracy: 0.5899 - val_loss: 1.4073 - val_accuracy: 0.5170\n",
      "Epoch 24/100\n",
      "50000/50000 [==============================] - 5s 91us/step - loss: 1.1102 - accuracy: 0.6019 - val_loss: 1.4510 - val_accuracy: 0.5064\n",
      "Epoch 25/100\n",
      "50000/50000 [==============================] - 5s 91us/step - loss: 1.0963 - accuracy: 0.6062 - val_loss: 1.4279 - val_accuracy: 0.5117\n",
      "Epoch 26/100\n",
      "50000/50000 [==============================] - 5s 91us/step - loss: 1.0795 - accuracy: 0.6147 - val_loss: 1.4483 - val_accuracy: 0.5087\n",
      "Epoch 27/100\n",
      "50000/50000 [==============================] - 5s 91us/step - loss: 1.0557 - accuracy: 0.6194 - val_loss: 1.4668 - val_accuracy: 0.5133\n",
      "Epoch 28/100\n",
      "50000/50000 [==============================] - 5s 91us/step - loss: 1.0420 - accuracy: 0.6261 - val_loss: 1.4530 - val_accuracy: 0.5094\n",
      "Epoch 29/100\n",
      "50000/50000 [==============================] - 5s 91us/step - loss: 1.0243 - accuracy: 0.6308 - val_loss: 1.4417 - val_accuracy: 0.5137\n",
      "Epoch 30/100\n",
      "50000/50000 [==============================] - 5s 92us/step - loss: 1.0010 - accuracy: 0.6374 - val_loss: 1.4506 - val_accuracy: 0.5186\n",
      "Epoch 31/100\n",
      "50000/50000 [==============================] - 5s 92us/step - loss: 0.9888 - accuracy: 0.6452 - val_loss: 1.4409 - val_accuracy: 0.5112\n",
      "Epoch 32/100\n",
      "50000/50000 [==============================] - 5s 91us/step - loss: 0.9703 - accuracy: 0.6502 - val_loss: 1.4752 - val_accuracy: 0.5204\n",
      "Epoch 33/100\n",
      "50000/50000 [==============================] - 5s 91us/step - loss: 0.9409 - accuracy: 0.6604 - val_loss: 1.5265 - val_accuracy: 0.5139\n",
      "Epoch 34/100\n",
      "50000/50000 [==============================] - 5s 92us/step - loss: 0.9459 - accuracy: 0.6581 - val_loss: 1.4755 - val_accuracy: 0.5126\n",
      "Epoch 35/100\n",
      "50000/50000 [==============================] - 5s 92us/step - loss: 0.9281 - accuracy: 0.6654 - val_loss: 1.6205 - val_accuracy: 0.5037\n",
      "Epoch 36/100\n",
      "50000/50000 [==============================] - 5s 92us/step - loss: 0.9016 - accuracy: 0.6734 - val_loss: 1.5803 - val_accuracy: 0.5142\n",
      "Epoch 37/100\n",
      "50000/50000 [==============================] - 5s 91us/step - loss: 0.8976 - accuracy: 0.6759 - val_loss: 1.5675 - val_accuracy: 0.5176\n",
      "Epoch 38/100\n",
      "50000/50000 [==============================] - 5s 94us/step - loss: 0.8724 - accuracy: 0.6849 - val_loss: 1.5825 - val_accuracy: 0.5116\n",
      "Epoch 39/100\n",
      "50000/50000 [==============================] - 5s 96us/step - loss: 0.8591 - accuracy: 0.6894 - val_loss: 1.5420 - val_accuracy: 0.5125\n",
      "Epoch 40/100\n",
      "50000/50000 [==============================] - 5s 93us/step - loss: 0.8443 - accuracy: 0.6937 - val_loss: 1.5665 - val_accuracy: 0.5068\n",
      "Epoch 41/100\n",
      "50000/50000 [==============================] - 5s 91us/step - loss: 0.8236 - accuracy: 0.7028 - val_loss: 1.6464 - val_accuracy: 0.5122\n",
      "Epoch 42/100\n",
      "50000/50000 [==============================] - 5s 92us/step - loss: 0.8236 - accuracy: 0.7024 - val_loss: 1.6244 - val_accuracy: 0.5123\n",
      "Epoch 43/100\n",
      "50000/50000 [==============================] - 5s 93us/step - loss: 0.8161 - accuracy: 0.7055 - val_loss: 1.7275 - val_accuracy: 0.5110\n",
      "Epoch 44/100\n",
      "50000/50000 [==============================] - 5s 93us/step - loss: 0.8035 - accuracy: 0.7108 - val_loss: 1.6304 - val_accuracy: 0.5055\n",
      "Epoch 45/100\n",
      "50000/50000 [==============================] - 5s 93us/step - loss: 0.7876 - accuracy: 0.7162 - val_loss: 1.7271 - val_accuracy: 0.5163\n",
      "Epoch 46/100\n",
      "50000/50000 [==============================] - 5s 92us/step - loss: 0.7657 - accuracy: 0.7247 - val_loss: 1.7956 - val_accuracy: 0.5001\n",
      "Epoch 47/100\n",
      "50000/50000 [==============================] - 5s 92us/step - loss: 0.7446 - accuracy: 0.7318 - val_loss: 1.7273 - val_accuracy: 0.5009\n",
      "Epoch 48/100\n",
      "50000/50000 [==============================] - 5s 93us/step - loss: 0.7447 - accuracy: 0.7308 - val_loss: 1.8164 - val_accuracy: 0.5114\n",
      "Epoch 49/100\n",
      "50000/50000 [==============================] - 5s 93us/step - loss: 0.7281 - accuracy: 0.7387 - val_loss: 1.8298 - val_accuracy: 0.5083\n",
      "Epoch 50/100\n",
      "50000/50000 [==============================] - 5s 95us/step - loss: 0.7235 - accuracy: 0.7395 - val_loss: 1.8285 - val_accuracy: 0.5110\n",
      "Epoch 51/100\n",
      "50000/50000 [==============================] - 5s 94us/step - loss: 0.7134 - accuracy: 0.7410 - val_loss: 1.8421 - val_accuracy: 0.5011\n",
      "Epoch 52/100\n",
      "50000/50000 [==============================] - 5s 93us/step - loss: 0.6931 - accuracy: 0.7499 - val_loss: 1.7883 - val_accuracy: 0.5040\n",
      "Epoch 53/100\n",
      "50000/50000 [==============================] - 5s 92us/step - loss: 0.6805 - accuracy: 0.7537 - val_loss: 1.9145 - val_accuracy: 0.5062\n",
      "Epoch 54/100\n"
     ]
    },
    {
     "name": "stdout",
     "output_type": "stream",
     "text": [
      "50000/50000 [==============================] - 5s 93us/step - loss: 0.6894 - accuracy: 0.7530 - val_loss: 1.8499 - val_accuracy: 0.5103\n",
      "Epoch 55/100\n",
      "50000/50000 [==============================] - 5s 92us/step - loss: 0.6662 - accuracy: 0.7597 - val_loss: 1.9334 - val_accuracy: 0.5100\n",
      "Epoch 56/100\n",
      "50000/50000 [==============================] - 5s 93us/step - loss: 0.6450 - accuracy: 0.7670 - val_loss: 1.9270 - val_accuracy: 0.5145\n",
      "Epoch 57/100\n",
      "50000/50000 [==============================] - 5s 93us/step - loss: 0.6507 - accuracy: 0.7645 - val_loss: 1.9001 - val_accuracy: 0.5083\n",
      "Epoch 58/100\n",
      "50000/50000 [==============================] - 5s 92us/step - loss: 0.6451 - accuracy: 0.7662 - val_loss: 1.9651 - val_accuracy: 0.5112\n",
      "Epoch 59/100\n",
      "50000/50000 [==============================] - 5s 92us/step - loss: 0.6256 - accuracy: 0.7749 - val_loss: 1.9595 - val_accuracy: 0.5078\n",
      "Epoch 60/100\n",
      "50000/50000 [==============================] - 5s 92us/step - loss: 0.6133 - accuracy: 0.7780 - val_loss: 1.9355 - val_accuracy: 0.5042\n",
      "Epoch 61/100\n",
      "50000/50000 [==============================] - 5s 93us/step - loss: 0.5985 - accuracy: 0.7843 - val_loss: 1.9968 - val_accuracy: 0.5022\n",
      "Epoch 62/100\n",
      "50000/50000 [==============================] - 5s 97us/step - loss: 0.5961 - accuracy: 0.7837 - val_loss: 2.1160 - val_accuracy: 0.4995\n",
      "Epoch 63/100\n",
      "50000/50000 [==============================] - 5s 97us/step - loss: 0.5946 - accuracy: 0.7866 - val_loss: 2.1058 - val_accuracy: 0.5074\n",
      "Epoch 64/100\n",
      "50000/50000 [==============================] - 5s 93us/step - loss: 0.5937 - accuracy: 0.7867 - val_loss: 2.1131 - val_accuracy: 0.5045\n",
      "Epoch 65/100\n",
      "50000/50000 [==============================] - 5s 95us/step - loss: 0.5842 - accuracy: 0.7899 - val_loss: 2.0919 - val_accuracy: 0.5091\n",
      "Epoch 66/100\n",
      "50000/50000 [==============================] - 5s 95us/step - loss: 0.5643 - accuracy: 0.7954 - val_loss: 2.1559 - val_accuracy: 0.5091\n",
      "Epoch 67/100\n",
      "50000/50000 [==============================] - 5s 92us/step - loss: 0.5584 - accuracy: 0.7995 - val_loss: 2.1518 - val_accuracy: 0.5062\n",
      "Epoch 68/100\n",
      "50000/50000 [==============================] - 5s 92us/step - loss: 0.5593 - accuracy: 0.7988 - val_loss: 2.1245 - val_accuracy: 0.4983\n",
      "Epoch 69/100\n",
      "50000/50000 [==============================] - 5s 93us/step - loss: 0.5544 - accuracy: 0.7995 - val_loss: 2.1562 - val_accuracy: 0.5117\n",
      "Epoch 70/100\n",
      "50000/50000 [==============================] - 5s 92us/step - loss: 0.5343 - accuracy: 0.8080 - val_loss: 2.2415 - val_accuracy: 0.5048\n",
      "Epoch 71/100\n",
      "50000/50000 [==============================] - 5s 93us/step - loss: 0.5310 - accuracy: 0.8086 - val_loss: 2.2701 - val_accuracy: 0.5006\n",
      "Epoch 72/100\n",
      "50000/50000 [==============================] - 5s 93us/step - loss: 0.5357 - accuracy: 0.8076 - val_loss: 2.0245 - val_accuracy: 0.5009\n",
      "Epoch 73/100\n",
      "50000/50000 [==============================] - 5s 92us/step - loss: 0.5421 - accuracy: 0.8041 - val_loss: 2.3177 - val_accuracy: 0.4979\n",
      "Epoch 74/100\n",
      "50000/50000 [==============================] - 5s 94us/step - loss: 0.5333 - accuracy: 0.8084 - val_loss: 2.1311 - val_accuracy: 0.5033\n",
      "Epoch 75/100\n",
      "50000/50000 [==============================] - 5s 93us/step - loss: 0.4954 - accuracy: 0.8228 - val_loss: 2.4068 - val_accuracy: 0.4923\n",
      "Epoch 76/100\n",
      "50000/50000 [==============================] - 5s 93us/step - loss: 0.4954 - accuracy: 0.8225 - val_loss: 2.2608 - val_accuracy: 0.4967\n",
      "Epoch 77/100\n",
      "50000/50000 [==============================] - 5s 93us/step - loss: 0.5031 - accuracy: 0.8194 - val_loss: 2.4272 - val_accuracy: 0.5024\n",
      "Epoch 78/100\n",
      "50000/50000 [==============================] - 5s 93us/step - loss: 0.5065 - accuracy: 0.8189 - val_loss: 2.2215 - val_accuracy: 0.5052\n",
      "Epoch 79/100\n",
      "50000/50000 [==============================] - 5s 93us/step - loss: 0.4882 - accuracy: 0.8259 - val_loss: 2.3153 - val_accuracy: 0.4947\n",
      "Epoch 80/100\n",
      "50000/50000 [==============================] - 5s 93us/step - loss: 0.4762 - accuracy: 0.8292 - val_loss: 2.5486 - val_accuracy: 0.4905\n",
      "Epoch 81/100\n",
      "50000/50000 [==============================] - 5s 93us/step - loss: 0.4912 - accuracy: 0.8257 - val_loss: 2.3307 - val_accuracy: 0.4900\n",
      "Epoch 82/100\n",
      "50000/50000 [==============================] - 5s 93us/step - loss: 0.4930 - accuracy: 0.8255 - val_loss: 2.3383 - val_accuracy: 0.5042\n",
      "Epoch 83/100\n",
      "50000/50000 [==============================] - 5s 93us/step - loss: 0.4533 - accuracy: 0.8390 - val_loss: 2.5350 - val_accuracy: 0.4914\n",
      "Epoch 84/100\n",
      "50000/50000 [==============================] - 5s 93us/step - loss: 0.5016 - accuracy: 0.8217 - val_loss: 2.2611 - val_accuracy: 0.5034\n",
      "Epoch 85/100\n",
      "50000/50000 [==============================] - 5s 92us/step - loss: 0.4624 - accuracy: 0.8349 - val_loss: 2.4624 - val_accuracy: 0.5006\n",
      "Epoch 86/100\n",
      "50000/50000 [==============================] - 5s 95us/step - loss: 0.4513 - accuracy: 0.8382 - val_loss: 2.4139 - val_accuracy: 0.5004\n",
      "Epoch 87/100\n",
      "50000/50000 [==============================] - 5s 92us/step - loss: 0.4516 - accuracy: 0.8380 - val_loss: 2.3854 - val_accuracy: 0.5027\n",
      "Epoch 88/100\n",
      "50000/50000 [==============================] - 5s 92us/step - loss: 0.4406 - accuracy: 0.8419 - val_loss: 2.5417 - val_accuracy: 0.4953\n",
      "Epoch 89/100\n",
      "50000/50000 [==============================] - 5s 94us/step - loss: 0.4342 - accuracy: 0.8433 - val_loss: 2.4969 - val_accuracy: 0.4934\n",
      "Epoch 90/100\n",
      "50000/50000 [==============================] - 5s 92us/step - loss: 0.4339 - accuracy: 0.8451 - val_loss: 2.4864 - val_accuracy: 0.4983\n",
      "Epoch 91/100\n",
      "50000/50000 [==============================] - 5s 92us/step - loss: 0.4333 - accuracy: 0.8452 - val_loss: 2.7265 - val_accuracy: 0.4921\n",
      "Epoch 92/100\n",
      "50000/50000 [==============================] - 5s 93us/step - loss: 0.4315 - accuracy: 0.8460 - val_loss: 2.5458 - val_accuracy: 0.5042\n",
      "Epoch 93/100\n",
      "50000/50000 [==============================] - 5s 93us/step - loss: 0.4194 - accuracy: 0.8510 - val_loss: 2.5237 - val_accuracy: 0.4894\n",
      "Epoch 94/100\n",
      "50000/50000 [==============================] - 5s 92us/step - loss: 0.4073 - accuracy: 0.8546 - val_loss: 2.5364 - val_accuracy: 0.4988\n",
      "Epoch 95/100\n",
      "50000/50000 [==============================] - 5s 92us/step - loss: 0.4142 - accuracy: 0.8525 - val_loss: 2.6062 - val_accuracy: 0.4993\n",
      "Epoch 96/100\n",
      "50000/50000 [==============================] - 5s 92us/step - loss: 0.3966 - accuracy: 0.8581 - val_loss: 2.7165 - val_accuracy: 0.4948\n",
      "Epoch 97/100\n",
      "50000/50000 [==============================] - 5s 93us/step - loss: 0.4197 - accuracy: 0.8507 - val_loss: 2.5433 - val_accuracy: 0.4929\n",
      "Epoch 98/100\n",
      "50000/50000 [==============================] - 5s 93us/step - loss: 0.3926 - accuracy: 0.8593 - val_loss: 2.6458 - val_accuracy: 0.4991\n",
      "Epoch 99/100\n",
      "50000/50000 [==============================] - 5s 93us/step - loss: 0.4146 - accuracy: 0.8513 - val_loss: 2.5200 - val_accuracy: 0.4885\n",
      "Epoch 100/100\n",
      "50000/50000 [==============================] - 5s 93us/step - loss: 0.4072 - accuracy: 0.8554 - val_loss: 2.6384 - val_accuracy: 0.4943\n"
     ]
    },
    {
     "data": {
      "text/plain": [
       "<keras.callbacks.callbacks.History at 0x2413f461b48>"
      ]
     },
     "execution_count": 18,
     "metadata": {},
     "output_type": "execute_result"
    }
   ],
   "source": [
    "model.fit(x_train, y_train, \n",
    "          epochs=EPOCHS, \n",
    "          batch_size=BATCH_SIZE, \n",
    "          validation_data=(x_test, y_test), \n",
    "          shuffle=True)"
   ]
  },
  {
   "cell_type": "code",
   "execution_count": 20,
   "metadata": {},
   "outputs": [
    {
     "data": {
      "image/png": "[encoded data removed]",
      "text/plain": [
       "<Figure size 432x288 with 1 Axes>"
      ]
     },
     "metadata": {
      "needs_background": "light"
     },
     "output_type": "display_data"
    },
    {
     "data": {
      "image/png": "[encoded data removed]",
      "text/plain": [
       "<Figure size 432x288 with 1 Axes>"
      ]
     },
     "metadata": {
      "needs_background": "light"
     },
     "output_type": "display_data"
    }
   ],
   "source": [
    "import matplotlib.pyplot as plt\n",
    "\n",
    "\n",
    "train_loss = model.history.history[\"loss\"]\n",
    "valid_loss = model.history.history[\"val_loss\"]\n",
    "\n",
    "train_acc = model.history.history[\"accuracy\"]\n",
    "valid_acc = model.history.history[\"val_accuracy\"]\n",
    "\n",
    "plt.plot(range(len(train_loss)), train_loss, label=\"train loss\")\n",
    "plt.plot(range(len(valid_loss)), valid_loss, label=\"valid loss\")\n",
    "plt.legend()\n",
    "plt.title(\"Loss\")\n",
    "plt.show()\n",
    "\n",
    "plt.plot(range(len(train_acc)), train_acc, label=\"train accuracy\")\n",
    "plt.plot(range(len(valid_acc)), valid_acc, label=\"valid accuracy\")\n",
    "plt.legend()\n",
    "plt.title(\"Accuracy\")\n",
    "plt.show()"
   ]
  },
  {
   "cell_type": "code",
   "execution_count": null,
   "metadata": {},
   "outputs": [],
   "source": []
  }
 ],
 "metadata": {
  "kernelspec": {
   "display_name": "Python 3",
   "language": "python",
   "name": "python3"
  },
  "language_info": {
   "codemirror_mode": {
    "name": "ipython",
    "version": 3
   },
   "file_extension": ".py",
   "mimetype": "text/x-python",
   "name": "python",
   "nbconvert_exporter": "python",
   "pygments_lexer": "ipython3",
   "version": "3.7.6"
  }
 },
 "nbformat": 4,
 "nbformat_minor": 2
}
