{
 "cells": [
  {
   "cell_type": "markdown",
   "metadata": {},
   "source": [
    "## Work\n",
    "1. 試改變 monitor \"Validation Accuracy\" 並比較結果\n",
    "2. 調整 earlystop 的等待次數至 10, 25 並比較結果"
   ]
  },
  {
   "cell_type": "code",
   "execution_count": 1,
   "metadata": {},
   "outputs": [
    {
     "name": "stderr",
     "output_type": "stream",
     "text": [
      "Using TensorFlow backend.\n",
      "C:\\Users\\195313\\Anaconda3\\lib\\site-packages\\tensorflow\\python\\framework\\dtypes.py:516: FutureWarning: Passing (type, 1) or '1type' as a synonym of type is deprecated; in a future version of numpy, it will be understood as (type, (1,)) / '(1,)type'.\n",
      "  _np_qint8 = np.dtype([(\"qint8\", np.int8, 1)])\n",
      "C:\\Users\\195313\\Anaconda3\\lib\\site-packages\\tensorflow\\python\\framework\\dtypes.py:517: FutureWarning: Passing (type, 1) or '1type' as a synonym of type is deprecated; in a future version of numpy, it will be understood as (type, (1,)) / '(1,)type'.\n",
      "  _np_quint8 = np.dtype([(\"quint8\", np.uint8, 1)])\n",
      "C:\\Users\\195313\\Anaconda3\\lib\\site-packages\\tensorflow\\python\\framework\\dtypes.py:518: FutureWarning: Passing (type, 1) or '1type' as a synonym of type is deprecated; in a future version of numpy, it will be understood as (type, (1,)) / '(1,)type'.\n",
      "  _np_qint16 = np.dtype([(\"qint16\", np.int16, 1)])\n",
      "C:\\Users\\195313\\Anaconda3\\lib\\site-packages\\tensorflow\\python\\framework\\dtypes.py:519: FutureWarning: Passing (type, 1) or '1type' as a synonym of type is deprecated; in a future version of numpy, it will be understood as (type, (1,)) / '(1,)type'.\n",
      "  _np_quint16 = np.dtype([(\"quint16\", np.uint16, 1)])\n",
      "C:\\Users\\195313\\Anaconda3\\lib\\site-packages\\tensorflow\\python\\framework\\dtypes.py:520: FutureWarning: Passing (type, 1) or '1type' as a synonym of type is deprecated; in a future version of numpy, it will be understood as (type, (1,)) / '(1,)type'.\n",
      "  _np_qint32 = np.dtype([(\"qint32\", np.int32, 1)])\n",
      "C:\\Users\\195313\\Anaconda3\\lib\\site-packages\\tensorflow\\python\\framework\\dtypes.py:525: FutureWarning: Passing (type, 1) or '1type' as a synonym of type is deprecated; in a future version of numpy, it will be understood as (type, (1,)) / '(1,)type'.\n",
      "  np_resource = np.dtype([(\"resource\", np.ubyte, 1)])\n",
      "C:\\Users\\195313\\Anaconda3\\lib\\site-packages\\tensorboard\\compat\\tensorflow_stub\\dtypes.py:541: FutureWarning: Passing (type, 1) or '1type' as a synonym of type is deprecated; in a future version of numpy, it will be understood as (type, (1,)) / '(1,)type'.\n",
      "  _np_qint8 = np.dtype([(\"qint8\", np.int8, 1)])\n",
      "C:\\Users\\195313\\Anaconda3\\lib\\site-packages\\tensorboard\\compat\\tensorflow_stub\\dtypes.py:542: FutureWarning: Passing (type, 1) or '1type' as a synonym of type is deprecated; in a future version of numpy, it will be understood as (type, (1,)) / '(1,)type'.\n",
      "  _np_quint8 = np.dtype([(\"quint8\", np.uint8, 1)])\n",
      "C:\\Users\\195313\\Anaconda3\\lib\\site-packages\\tensorboard\\compat\\tensorflow_stub\\dtypes.py:543: FutureWarning: Passing (type, 1) or '1type' as a synonym of type is deprecated; in a future version of numpy, it will be understood as (type, (1,)) / '(1,)type'.\n",
      "  _np_qint16 = np.dtype([(\"qint16\", np.int16, 1)])\n",
      "C:\\Users\\195313\\Anaconda3\\lib\\site-packages\\tensorboard\\compat\\tensorflow_stub\\dtypes.py:544: FutureWarning: Passing (type, 1) or '1type' as a synonym of type is deprecated; in a future version of numpy, it will be understood as (type, (1,)) / '(1,)type'.\n",
      "  _np_quint16 = np.dtype([(\"quint16\", np.uint16, 1)])\n",
      "C:\\Users\\195313\\Anaconda3\\lib\\site-packages\\tensorboard\\compat\\tensorflow_stub\\dtypes.py:545: FutureWarning: Passing (type, 1) or '1type' as a synonym of type is deprecated; in a future version of numpy, it will be understood as (type, (1,)) / '(1,)type'.\n",
      "  _np_qint32 = np.dtype([(\"qint32\", np.int32, 1)])\n",
      "C:\\Users\\195313\\Anaconda3\\lib\\site-packages\\tensorboard\\compat\\tensorflow_stub\\dtypes.py:550: FutureWarning: Passing (type, 1) or '1type' as a synonym of type is deprecated; in a future version of numpy, it will be understood as (type, (1,)) / '(1,)type'.\n",
      "  np_resource = np.dtype([(\"resource\", np.ubyte, 1)])\n"
     ]
    }
   ],
   "source": [
    "import os\n",
    "import keras\n",
    "import matplotlib.pyplot as plt\n",
    "%matplotlib inline\n",
    "\n",
    "\n",
    "# Disable GPU\n",
    "os.environ[\"CUDA_VISIBLE_DEVICES\"] = \"\""
   ]
  },
  {
   "cell_type": "code",
   "execution_count": 2,
   "metadata": {},
   "outputs": [],
   "source": [
    "train, test = keras.datasets.cifar10.load_data()"
   ]
  },
  {
   "cell_type": "code",
   "execution_count": 3,
   "metadata": {},
   "outputs": [],
   "source": [
    "## 資料前處理\n",
    "def preproc_x(x, flatten=True):\n",
    "    x = x / 255.\n",
    "    if flatten:\n",
    "        x = x.reshape((len(x), -1))\n",
    "    return x\n",
    "\n",
    "def preproc_y(y, num_classes=10):\n",
    "    if y.shape[-1] == 1:\n",
    "        y = keras.utils.to_categorical(y, num_classes)\n",
    "    return y    "
   ]
  },
  {
   "cell_type": "code",
   "execution_count": 4,
   "metadata": {},
   "outputs": [],
   "source": [
    "x_train, y_train = train\n",
    "x_test, y_test = test\n",
    "\n",
    "# Preproc the inputs\n",
    "x_train = preproc_x(x_train)\n",
    "x_test = preproc_x(x_test)\n",
    "\n",
    "# Preprc the outputs\n",
    "y_train = preproc_y(y_train)\n",
    "y_test = preproc_y(y_test)"
   ]
  },
  {
   "cell_type": "code",
   "execution_count": 5,
   "metadata": {},
   "outputs": [],
   "source": [
    "from keras.layers import BatchNormalization\n",
    "def build_mlp(input_shape, output_units=10, num_neurons=[512, 256, 128]):\n",
    "    \"\"\"Code Here\n",
    "    建立你的神經網路\n",
    "    \"\"\"\n",
    "    input_layer = keras.layers.Input(input_shape)\n",
    "    \n",
    "    for i, n_units in enumerate(num_neurons):\n",
    "        if i == 0:\n",
    "            x = keras.layers.Dense(units=n_units, \n",
    "                                   activation=\"relu\", \n",
    "                                   name=\"hidden_layer\"+str(i+1))(input_layer)\n",
    "            x = BatchNormalization()(x)\n",
    "        else:\n",
    "            x = keras.layers.Dense(units=n_units, \n",
    "                                   activation=\"relu\", \n",
    "                                   name=\"hidden_layer\"+str(i+1))(x)\n",
    "            x = BatchNormalization()(x)\n",
    "    \n",
    "    out = keras.layers.Dense(units=output_units, activation=\"softmax\", name=\"output\")(x)\n",
    "    \n",
    "    model = keras.models.Model(inputs=[input_layer], outputs=[out])\n",
    "    return model"
   ]
  },
  {
   "cell_type": "code",
   "execution_count": 6,
   "metadata": {},
   "outputs": [],
   "source": [
    "\"\"\"Code Here\n",
    "設定超參數\n",
    "\"\"\"\n",
    "LEARNING_RATE = 1e-3\n",
    "EPOCHS = 50\n",
    "BATCH_SIZE = 1024\n",
    "MOMENTUM = 0.95"
   ]
  },
  {
   "cell_type": "code",
   "execution_count": 8,
   "metadata": {},
   "outputs": [
    {
     "name": "stdout",
     "output_type": "stream",
     "text": [
      "Model: \"model_2\"\n",
      "_________________________________________________________________\n",
      "Layer (type)                 Output Shape              Param #   \n",
      "=================================================================\n",
      "input_2 (InputLayer)         (None, 3072)              0         \n",
      "_________________________________________________________________\n",
      "hidden_layer1 (Dense)        (None, 512)               1573376   \n",
      "_________________________________________________________________\n",
      "batch_normalization_4 (Batch (None, 512)               2048      \n",
      "_________________________________________________________________\n",
      "hidden_layer2 (Dense)        (None, 256)               131328    \n",
      "_________________________________________________________________\n",
      "batch_normalization_5 (Batch (None, 256)               1024      \n",
      "_________________________________________________________________\n",
      "hidden_layer3 (Dense)        (None, 128)               32896     \n",
      "_________________________________________________________________\n",
      "batch_normalization_6 (Batch (None, 128)               512       \n",
      "_________________________________________________________________\n",
      "output (Dense)               (None, 10)                1290      \n",
      "=================================================================\n",
      "Total params: 1,742,474\n",
      "Trainable params: 1,740,682\n",
      "Non-trainable params: 1,792\n",
      "_________________________________________________________________\n",
      "Train on 50000 samples, validate on 10000 samples\n",
      "Epoch 1/50\n",
      "50000/50000 [==============================] - 3s 61us/step - loss: 2.2311 - accuracy: 0.2642 - val_loss: 2.1102 - val_accuracy: 0.2018\n",
      "Epoch 2/50\n",
      " 3072/50000 [>.............................] - ETA: 2s - loss: 1.7878 - accuracy: 0.3766"
     ]
    },
    {
     "name": "stderr",
     "output_type": "stream",
     "text": [
      "C:\\Users\\195313\\Anaconda3\\lib\\site-packages\\keras\\callbacks\\callbacks.py:846: RuntimeWarning: Early stopping conditioned on metric `Validation Accuracy` which is not available. Available metrics are: val_loss,val_accuracy,loss,accuracy\n",
      "  (self.monitor, ','.join(list(logs.keys()))), RuntimeWarning\n"
     ]
    },
    {
     "name": "stdout",
     "output_type": "stream",
     "text": [
      "50000/50000 [==============================] - 3s 54us/step - loss: 1.7457 - accuracy: 0.3912 - val_loss: 1.9385 - val_accuracy: 0.3176\n",
      "Epoch 3/50\n",
      "50000/50000 [==============================] - 3s 55us/step - loss: 1.6225 - accuracy: 0.4299 - val_loss: 1.8060 - val_accuracy: 0.3759\n",
      "Epoch 4/50\n",
      "50000/50000 [==============================] - 3s 55us/step - loss: 1.5479 - accuracy: 0.4561 - val_loss: 1.6966 - val_accuracy: 0.4208\n",
      "Epoch 5/50\n",
      "50000/50000 [==============================] - 3s 54us/step - loss: 1.4928 - accuracy: 0.4771 - val_loss: 1.6375 - val_accuracy: 0.4360\n",
      "Epoch 6/50\n",
      "50000/50000 [==============================] - 3s 54us/step - loss: 1.4487 - accuracy: 0.4938 - val_loss: 1.5767 - val_accuracy: 0.4558\n",
      "Epoch 7/50\n",
      "50000/50000 [==============================] - 3s 54us/step - loss: 1.4105 - accuracy: 0.5072 - val_loss: 1.5346 - val_accuracy: 0.4628\n",
      "Epoch 8/50\n",
      "50000/50000 [==============================] - 3s 54us/step - loss: 1.3753 - accuracy: 0.5183 - val_loss: 1.5104 - val_accuracy: 0.4677\n",
      "Epoch 9/50\n",
      "50000/50000 [==============================] - 3s 54us/step - loss: 1.3434 - accuracy: 0.5306 - val_loss: 1.5106 - val_accuracy: 0.4650\n",
      "Epoch 10/50\n",
      "50000/50000 [==============================] - 3s 54us/step - loss: 1.3156 - accuracy: 0.5429 - val_loss: 1.4843 - val_accuracy: 0.4737\n",
      "Epoch 11/50\n",
      "50000/50000 [==============================] - 3s 54us/step - loss: 1.2872 - accuracy: 0.5534 - val_loss: 1.4681 - val_accuracy: 0.4788\n",
      "Epoch 12/50\n",
      "50000/50000 [==============================] - 3s 55us/step - loss: 1.2594 - accuracy: 0.5624 - val_loss: 1.4680 - val_accuracy: 0.4814\n",
      "Epoch 13/50\n",
      "50000/50000 [==============================] - 3s 55us/step - loss: 1.2361 - accuracy: 0.5718 - val_loss: 1.4605 - val_accuracy: 0.4859\n",
      "Epoch 14/50\n",
      "50000/50000 [==============================] - 3s 54us/step - loss: 1.2106 - accuracy: 0.5827 - val_loss: 1.4498 - val_accuracy: 0.4883\n",
      "Epoch 15/50\n",
      "50000/50000 [==============================] - 3s 55us/step - loss: 1.1861 - accuracy: 0.5918 - val_loss: 1.4495 - val_accuracy: 0.4922\n",
      "Epoch 16/50\n",
      "50000/50000 [==============================] - 3s 56us/step - loss: 1.1631 - accuracy: 0.6015 - val_loss: 1.4541 - val_accuracy: 0.4854\n",
      "Epoch 17/50\n",
      "50000/50000 [==============================] - 3s 55us/step - loss: 1.1425 - accuracy: 0.6095 - val_loss: 1.4440 - val_accuracy: 0.4960\n",
      "Epoch 18/50\n",
      "50000/50000 [==============================] - 3s 56us/step - loss: 1.1198 - accuracy: 0.6163 - val_loss: 1.4438 - val_accuracy: 0.4919\n",
      "Epoch 19/50\n",
      "50000/50000 [==============================] - 3s 54us/step - loss: 1.0980 - accuracy: 0.6247 - val_loss: 1.4548 - val_accuracy: 0.4915\n",
      "Epoch 20/50\n",
      "50000/50000 [==============================] - 3s 54us/step - loss: 1.0772 - accuracy: 0.6342 - val_loss: 1.4385 - val_accuracy: 0.4947\n",
      "Epoch 21/50\n",
      "50000/50000 [==============================] - 3s 54us/step - loss: 1.0556 - accuracy: 0.6411 - val_loss: 1.4551 - val_accuracy: 0.4890\n",
      "Epoch 22/50\n",
      "50000/50000 [==============================] - 3s 54us/step - loss: 1.0342 - accuracy: 0.6488 - val_loss: 1.4365 - val_accuracy: 0.5005\n",
      "Epoch 23/50\n",
      "50000/50000 [==============================] - 3s 54us/step - loss: 1.0148 - accuracy: 0.6567 - val_loss: 1.4460 - val_accuracy: 0.4932\n",
      "Epoch 24/50\n",
      "50000/50000 [==============================] - 3s 54us/step - loss: 0.9940 - accuracy: 0.6660 - val_loss: 1.4426 - val_accuracy: 0.4992\n",
      "Epoch 25/50\n",
      "50000/50000 [==============================] - 3s 53us/step - loss: 0.9738 - accuracy: 0.6716 - val_loss: 1.4514 - val_accuracy: 0.4984\n",
      "Epoch 26/50\n",
      "50000/50000 [==============================] - 3s 54us/step - loss: 0.9543 - accuracy: 0.6800 - val_loss: 1.4636 - val_accuracy: 0.4958\n",
      "Epoch 27/50\n",
      "50000/50000 [==============================] - 3s 55us/step - loss: 0.9328 - accuracy: 0.6882 - val_loss: 1.4643 - val_accuracy: 0.4913\n",
      "Epoch 28/50\n",
      "50000/50000 [==============================] - 3s 56us/step - loss: 0.9130 - accuracy: 0.6957 - val_loss: 1.4586 - val_accuracy: 0.4988\n",
      "Epoch 29/50\n",
      "50000/50000 [==============================] - 3s 54us/step - loss: 0.8946 - accuracy: 0.7032 - val_loss: 1.4921 - val_accuracy: 0.4927\n",
      "Epoch 30/50\n",
      "50000/50000 [==============================] - 3s 54us/step - loss: 0.8751 - accuracy: 0.7112 - val_loss: 1.4669 - val_accuracy: 0.5018\n",
      "Epoch 31/50\n",
      "50000/50000 [==============================] - 3s 54us/step - loss: 0.8567 - accuracy: 0.7156 - val_loss: 1.4968 - val_accuracy: 0.4926\n",
      "Epoch 32/50\n",
      "50000/50000 [==============================] - 3s 54us/step - loss: 0.8358 - accuracy: 0.7249 - val_loss: 1.4765 - val_accuracy: 0.4991\n",
      "Epoch 33/50\n",
      "50000/50000 [==============================] - 3s 54us/step - loss: 0.8167 - accuracy: 0.7343 - val_loss: 1.4648 - val_accuracy: 0.4995\n",
      "Epoch 34/50\n",
      "50000/50000 [==============================] - 3s 54us/step - loss: 0.7969 - accuracy: 0.7408 - val_loss: 1.5031 - val_accuracy: 0.4969\n",
      "Epoch 35/50\n",
      "50000/50000 [==============================] - 3s 55us/step - loss: 0.7781 - accuracy: 0.7477 - val_loss: 1.4899 - val_accuracy: 0.5012\n",
      "Epoch 36/50\n",
      "50000/50000 [==============================] - 3s 55us/step - loss: 0.7596 - accuracy: 0.7562 - val_loss: 1.5096 - val_accuracy: 0.4940\n",
      "Epoch 37/50\n",
      "50000/50000 [==============================] - 3s 54us/step - loss: 0.7414 - accuracy: 0.7619 - val_loss: 1.5081 - val_accuracy: 0.4962\n",
      "Epoch 38/50\n",
      "50000/50000 [==============================] - 3s 54us/step - loss: 0.7222 - accuracy: 0.7704 - val_loss: 1.5079 - val_accuracy: 0.5046\n",
      "Epoch 39/50\n",
      "50000/50000 [==============================] - 3s 55us/step - loss: 0.7020 - accuracy: 0.7787 - val_loss: 1.5142 - val_accuracy: 0.5038\n",
      "Epoch 40/50\n",
      "50000/50000 [==============================] - 3s 55us/step - loss: 0.6867 - accuracy: 0.7841 - val_loss: 1.5356 - val_accuracy: 0.4986\n",
      "Epoch 41/50\n",
      "50000/50000 [==============================] - 3s 54us/step - loss: 0.6674 - accuracy: 0.7930 - val_loss: 1.5375 - val_accuracy: 0.5012\n",
      "Epoch 42/50\n",
      "50000/50000 [==============================] - 3s 54us/step - loss: 0.6505 - accuracy: 0.8003 - val_loss: 1.5640 - val_accuracy: 0.4954\n",
      "Epoch 43/50\n",
      "50000/50000 [==============================] - 3s 54us/step - loss: 0.6331 - accuracy: 0.8058 - val_loss: 1.5562 - val_accuracy: 0.5009\n",
      "Epoch 44/50\n",
      "50000/50000 [==============================] - 3s 55us/step - loss: 0.6133 - accuracy: 0.8139 - val_loss: 1.5693 - val_accuracy: 0.4970\n",
      "Epoch 45/50\n",
      "50000/50000 [==============================] - 3s 55us/step - loss: 0.5980 - accuracy: 0.8188 - val_loss: 1.5870 - val_accuracy: 0.4930\n",
      "Epoch 46/50\n",
      "50000/50000 [==============================] - 3s 55us/step - loss: 0.5789 - accuracy: 0.8282 - val_loss: 1.5866 - val_accuracy: 0.4984\n",
      "Epoch 47/50\n",
      "50000/50000 [==============================] - 3s 54us/step - loss: 0.5629 - accuracy: 0.8344 - val_loss: 1.6122 - val_accuracy: 0.4952\n",
      "Epoch 48/50\n",
      "50000/50000 [==============================] - 3s 54us/step - loss: 0.5456 - accuracy: 0.8414 - val_loss: 1.6258 - val_accuracy: 0.4975\n",
      "Epoch 49/50\n",
      "50000/50000 [==============================] - 3s 54us/step - loss: 0.5306 - accuracy: 0.8472 - val_loss: 1.6181 - val_accuracy: 0.4935\n",
      "Epoch 50/50\n",
      "50000/50000 [==============================] - 3s 54us/step - loss: 0.5164 - accuracy: 0.8522 - val_loss: 1.6445 - val_accuracy: 0.4947\n"
     ]
    }
   ],
   "source": [
    "# 載入 Callbacks\n",
    "\"\"\"Code Here\n",
    "設定 callbacks: Earlystop\n",
    "\"\"\"\n",
    "from keras.callbacks import EarlyStopping\n",
    "\n",
    "earlystop = EarlyStopping(monitor=\"Validation Accuracy\", \n",
    "                          patience=25, \n",
    "                          verbose=1\n",
    "                          )\n",
    "\n",
    "results = {}\n",
    "\"\"\"Code Here\n",
    "撰寫你的訓練流程並將結果用 dictionary 紀錄\n",
    "\"\"\"\n",
    "model = build_mlp(input_shape=x_train.shape[1:])\n",
    "model.summary()\n",
    "optimizer = keras.optimizers.SGD(lr=LEARNING_RATE, nesterov=True, momentum=MOMENTUM)\n",
    "model.compile(loss=\"categorical_crossentropy\", metrics=[\"accuracy\"], optimizer=optimizer)\n",
    "\n",
    "model.fit(x_train, y_train, \n",
    "          epochs=EPOCHS, \n",
    "          batch_size=BATCH_SIZE, \n",
    "          validation_data=(x_test, y_test), \n",
    "          shuffle=True,\n",
    "          callbacks=[earlystop]\n",
    "         )\n",
    "\n",
    "# Collect results\n",
    "train_loss = model.history.history[\"loss\"]\n",
    "valid_loss = model.history.history[\"val_loss\"]\n",
    "train_acc = model.history.history[\"accuracy\"]\n",
    "valid_acc = model.history.history[\"val_accuracy\"]"
   ]
  },
  {
   "cell_type": "code",
   "execution_count": 9,
   "metadata": {},
   "outputs": [
    {
     "data": {
      "image/png": "[encoded data removed]",
      "text/plain": [
       "<Figure size 432x288 with 1 Axes>"
      ]
     },
     "metadata": {
      "needs_background": "light"
     },
     "output_type": "display_data"
    },
    {
     "data": {
      "image/png": "[encoded data removed]",
      "text/plain": [
       "<Figure size 432x288 with 1 Axes>"
      ]
     },
     "metadata": {
      "needs_background": "light"
     },
     "output_type": "display_data"
    }
   ],
   "source": [
    "import matplotlib.pyplot as plt\n",
    "%matplotlib inline\n",
    "\"\"\"Code Here\n",
    "將結果繪出\n",
    "\"\"\"\n",
    "import matplotlib.pyplot as plt\n",
    "%matplotlib inline\n",
    "\n",
    "plt.plot(range(len(train_loss)), train_loss, label=\"train loss\")\n",
    "plt.plot(range(len(valid_loss)), valid_loss, label=\"valid loss\")\n",
    "plt.legend()\n",
    "plt.title(\"Loss\")\n",
    "plt.show()\n",
    "\n",
    "plt.plot(range(len(train_acc)), train_acc, label=\"train accuracy\")\n",
    "plt.plot(range(len(valid_acc)), valid_acc, label=\"valid accuracy\")\n",
    "plt.legend()\n",
    "plt.title(\"Accuracy\")\n",
    "plt.show()"
   ]
  },
  {
   "cell_type": "code",
   "execution_count": null,
   "metadata": {},
   "outputs": [],
   "source": []
  }
 ],
 "metadata": {
  "kernelspec": {
   "display_name": "Python 3",
   "language": "python",
   "name": "python3"
  },
  "language_info": {
   "codemirror_mode": {
    "name": "ipython",
    "version": 3
   },
   "file_extension": ".py",
   "mimetype": "text/x-python",
   "name": "python",
   "nbconvert_exporter": "python",
   "pygments_lexer": "ipython3",
   "version": "3.7.6"
  }
 },
 "nbformat": 4,
 "nbformat_minor": 2
}
