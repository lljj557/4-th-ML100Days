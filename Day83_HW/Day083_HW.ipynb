{
 "cells": [
  {
   "cell_type": "markdown",
   "metadata": {},
   "source": [
    "## Work\n",
    "1. 試比較有 BN 在 Batch_size = 2, 16, 32, 128, 256 下的差異\n",
    "2. 請嘗試將 BN 放在 Activation 之前，並比較訓練結果\n",
    "3. 請於 BN 放在 Input Layer 後，並比較結果"
   ]
  },
  {
   "cell_type": "code",
   "execution_count": 16,
   "metadata": {},
   "outputs": [],
   "source": [
    "import os\n",
    "import keras\n",
    "import itertools\n",
    "# Disable GPU\n",
    "os.environ[\"CUDA_VISIBLE_DEVICES\"] = \"\""
   ]
  },
  {
   "cell_type": "code",
   "execution_count": 17,
   "metadata": {},
   "outputs": [],
   "source": [
    "train, test = keras.datasets.cifar10.load_data()"
   ]
  },
  {
   "cell_type": "code",
   "execution_count": 18,
   "metadata": {},
   "outputs": [],
   "source": [
    "## 資料前處理\n",
    "def preproc_x(x, flatten=True):\n",
    "    x = x / 255.\n",
    "    if flatten:\n",
    "        x = x.reshape((len(x), -1))\n",
    "    return x\n",
    "\n",
    "def preproc_y(y, num_classes=10):\n",
    "    if y.shape[-1] == 1:\n",
    "        y = keras.utils.to_categorical(y, num_classes)\n",
    "    return y    "
   ]
  },
  {
   "cell_type": "code",
   "execution_count": 19,
   "metadata": {},
   "outputs": [],
   "source": [
    "x_train, y_train = train\n",
    "x_test, y_test = test\n",
    "\n",
    "# Preproc the inputs\n",
    "x_train = preproc_x(x_train)\n",
    "x_test = preproc_x(x_test)\n",
    "\n",
    "# Preprc the outputs\n",
    "y_train = preproc_y(y_train)\n",
    "y_test = preproc_y(y_test)"
   ]
  },
  {
   "cell_type": "code",
   "execution_count": 20,
   "metadata": {},
   "outputs": [],
   "source": [
    "from keras.layers import BatchNormalization\n",
    "\n",
    "def build_mlp(input_shape, output_units=10, num_neurons=[512, 256, 128]):\n",
    "    input_layer = keras.layers.Input(input_shape)\n",
    "    \n",
    "    for i, n_units in enumerate(num_neurons):\n",
    "        if i == 0:\n",
    "            \n",
    "            x = keras.layers.Dense(units=n_units, \n",
    "                                   activation=\"relu\", \n",
    "                                   name=\"hidden_layer\"+str(i+1))(input_layer)\n",
    "            x = BatchNormalization()(x)\n",
    "        else:\n",
    "            \n",
    "            x = keras.layers.Dense(units=n_units, \n",
    "                                   activation=\"relu\", \n",
    "                                   name=\"hidden_layer\"+str(i+1))(x)\n",
    "            x = BatchNormalization()(x)\n",
    "    \n",
    "    out = keras.layers.Dense(units=output_units, activation=\"softmax\", name=\"output\")(x)\n",
    "    \n",
    "    model = keras.models.Model(inputs=[input_layer], outputs=[out])\n",
    "    \"\"\"Code Here\n",
    "    建立你的神經網路\n",
    "    \"\"\"\n",
    "    \n",
    "    return model"
   ]
  },
  {
   "cell_type": "code",
   "execution_count": 21,
   "metadata": {},
   "outputs": [],
   "source": [
    "\"\"\"Code Here\n",
    "設定超參數\n",
    "\"\"\"\n",
    "LEARNING_RATE = 1e-3\n",
    "EPOCHS = 50\n",
    "BATCH_SIZE = 1024\n",
    "MOMENTUM = 0.95"
   ]
  },
  {
   "cell_type": "code",
   "execution_count": 23,
   "metadata": {
    "scrolled": true
   },
   "outputs": [
    {
     "name": "stdout",
     "output_type": "stream",
     "text": [
      "Model: \"model_2\"\n",
      "_________________________________________________________________\n",
      "Layer (type)                 Output Shape              Param #   \n",
      "=================================================================\n",
      "input_5 (InputLayer)         (None, 3072)              0         \n",
      "_________________________________________________________________\n",
      "hidden_layer1 (Dense)        (None, 512)               1573376   \n",
      "_________________________________________________________________\n",
      "batch_normalization_7 (Batch (None, 512)               2048      \n",
      "_________________________________________________________________\n",
      "hidden_layer2 (Dense)        (None, 256)               131328    \n",
      "_________________________________________________________________\n",
      "batch_normalization_8 (Batch (None, 256)               1024      \n",
      "_________________________________________________________________\n",
      "hidden_layer3 (Dense)        (None, 128)               32896     \n",
      "_________________________________________________________________\n",
      "batch_normalization_9 (Batch (None, 128)               512       \n",
      "_________________________________________________________________\n",
      "output (Dense)               (None, 10)                1290      \n",
      "=================================================================\n",
      "Total params: 1,742,474\n",
      "Trainable params: 1,740,682\n",
      "Non-trainable params: 1,792\n",
      "_________________________________________________________________\n",
      "Train on 50000 samples, validate on 10000 samples\n",
      "Epoch 1/50\n",
      "50000/50000 [==============================] - 3s 60us/step - loss: 2.2098 - accuracy: 0.2654 - val_loss: 2.1171 - val_accuracy: 0.1976\n",
      "Epoch 2/50\n",
      "50000/50000 [==============================] - 3s 53us/step - loss: 1.7291 - accuracy: 0.3998 - val_loss: 1.9795 - val_accuracy: 0.2915\n",
      "Epoch 3/50\n",
      "50000/50000 [==============================] - 3s 53us/step - loss: 1.6093 - accuracy: 0.4404 - val_loss: 1.8084 - val_accuracy: 0.3852\n",
      "Epoch 4/50\n",
      "50000/50000 [==============================] - 3s 53us/step - loss: 1.5369 - accuracy: 0.4642 - val_loss: 1.7160 - val_accuracy: 0.4125\n",
      "Epoch 5/50\n",
      "50000/50000 [==============================] - 3s 53us/step - loss: 1.4820 - accuracy: 0.4859 - val_loss: 1.6385 - val_accuracy: 0.4326\n",
      "Epoch 6/50\n",
      "50000/50000 [==============================] - 3s 53us/step - loss: 1.4388 - accuracy: 0.5022 - val_loss: 1.5879 - val_accuracy: 0.4424\n",
      "Epoch 7/50\n",
      "50000/50000 [==============================] - 3s 54us/step - loss: 1.3993 - accuracy: 0.5144 - val_loss: 1.5519 - val_accuracy: 0.4533\n",
      "Epoch 8/50\n",
      "50000/50000 [==============================] - 3s 53us/step - loss: 1.3641 - accuracy: 0.5278 - val_loss: 1.5186 - val_accuracy: 0.4664\n",
      "Epoch 9/50\n",
      "50000/50000 [==============================] - 3s 53us/step - loss: 1.3311 - accuracy: 0.5394 - val_loss: 1.5203 - val_accuracy: 0.4661\n",
      "Epoch 10/50\n",
      "50000/50000 [==============================] - 3s 53us/step - loss: 1.3014 - accuracy: 0.5497 - val_loss: 1.4869 - val_accuracy: 0.4748\n",
      "Epoch 11/50\n",
      "50000/50000 [==============================] - 3s 54us/step - loss: 1.2739 - accuracy: 0.5604 - val_loss: 1.4791 - val_accuracy: 0.4785\n",
      "Epoch 12/50\n",
      "50000/50000 [==============================] - 3s 54us/step - loss: 1.2442 - accuracy: 0.5705 - val_loss: 1.4709 - val_accuracy: 0.4752\n",
      "Epoch 13/50\n",
      "50000/50000 [==============================] - 3s 54us/step - loss: 1.2197 - accuracy: 0.5803 - val_loss: 1.4636 - val_accuracy: 0.4827\n",
      "Epoch 14/50\n",
      "50000/50000 [==============================] - 3s 54us/step - loss: 1.1937 - accuracy: 0.5894 - val_loss: 1.4539 - val_accuracy: 0.4870\n",
      "Epoch 15/50\n",
      "50000/50000 [==============================] - 3s 53us/step - loss: 1.1719 - accuracy: 0.5969 - val_loss: 1.4584 - val_accuracy: 0.4851\n",
      "Epoch 16/50\n",
      "50000/50000 [==============================] - 3s 54us/step - loss: 1.1489 - accuracy: 0.6068 - val_loss: 1.4508 - val_accuracy: 0.4848\n",
      "Epoch 17/50\n",
      "50000/50000 [==============================] - 3s 54us/step - loss: 1.1236 - accuracy: 0.6179 - val_loss: 1.4520 - val_accuracy: 0.4902\n",
      "Epoch 18/50\n",
      "50000/50000 [==============================] - 3s 53us/step - loss: 1.1022 - accuracy: 0.6250 - val_loss: 1.4582 - val_accuracy: 0.4912\n",
      "Epoch 19/50\n",
      "50000/50000 [==============================] - 3s 53us/step - loss: 1.0789 - accuracy: 0.6347 - val_loss: 1.4704 - val_accuracy: 0.4847\n",
      "Epoch 20/50\n",
      "50000/50000 [==============================] - 3s 54us/step - loss: 1.0582 - accuracy: 0.6410 - val_loss: 1.4500 - val_accuracy: 0.4947\n",
      "Epoch 21/50\n",
      "50000/50000 [==============================] - 3s 54us/step - loss: 1.0368 - accuracy: 0.6504 - val_loss: 1.4571 - val_accuracy: 0.4921\n",
      "Epoch 22/50\n",
      "50000/50000 [==============================] - 3s 53us/step - loss: 1.0135 - accuracy: 0.6581 - val_loss: 1.4448 - val_accuracy: 0.4912\n",
      "Epoch 23/50\n",
      "50000/50000 [==============================] - 3s 54us/step - loss: 0.9941 - accuracy: 0.6675 - val_loss: 1.4585 - val_accuracy: 0.4936\n",
      "Epoch 24/50\n",
      "50000/50000 [==============================] - 3s 54us/step - loss: 0.9749 - accuracy: 0.6740 - val_loss: 1.4638 - val_accuracy: 0.4954\n",
      "Epoch 25/50\n",
      "50000/50000 [==============================] - 3s 53us/step - loss: 0.9541 - accuracy: 0.6809 - val_loss: 1.4661 - val_accuracy: 0.4948\n",
      "Epoch 26/50\n",
      "50000/50000 [==============================] - 3s 54us/step - loss: 0.9316 - accuracy: 0.6909 - val_loss: 1.4665 - val_accuracy: 0.4972\n",
      "Epoch 27/50\n",
      "50000/50000 [==============================] - 3s 53us/step - loss: 0.9125 - accuracy: 0.6979 - val_loss: 1.4625 - val_accuracy: 0.4983\n",
      "Epoch 28/50\n",
      "50000/50000 [==============================] - 3s 53us/step - loss: 0.8908 - accuracy: 0.7064 - val_loss: 1.4811 - val_accuracy: 0.5009\n",
      "Epoch 29/50\n",
      "50000/50000 [==============================] - 3s 53us/step - loss: 0.8735 - accuracy: 0.7119 - val_loss: 1.4778 - val_accuracy: 0.4959\n",
      "Epoch 30/50\n",
      "50000/50000 [==============================] - 3s 54us/step - loss: 0.8523 - accuracy: 0.7210 - val_loss: 1.4819 - val_accuracy: 0.4936\n",
      "Epoch 31/50\n",
      "50000/50000 [==============================] - 3s 54us/step - loss: 0.8326 - accuracy: 0.7273 - val_loss: 1.4856 - val_accuracy: 0.5013\n",
      "Epoch 32/50\n",
      "50000/50000 [==============================] - 3s 55us/step - loss: 0.8139 - accuracy: 0.7362 - val_loss: 1.5255 - val_accuracy: 0.4935\n",
      "Epoch 33/50\n",
      "50000/50000 [==============================] - 3s 54us/step - loss: 0.7958 - accuracy: 0.7430 - val_loss: 1.5009 - val_accuracy: 0.4996\n",
      "Epoch 34/50\n",
      "50000/50000 [==============================] - 3s 53us/step - loss: 0.7773 - accuracy: 0.7486 - val_loss: 1.5288 - val_accuracy: 0.4925\n",
      "Epoch 35/50\n",
      "50000/50000 [==============================] - 3s 54us/step - loss: 0.7568 - accuracy: 0.7589 - val_loss: 1.5243 - val_accuracy: 0.4976\n",
      "Epoch 36/50\n",
      "50000/50000 [==============================] - 3s 53us/step - loss: 0.7406 - accuracy: 0.7662 - val_loss: 1.5563 - val_accuracy: 0.4857\n",
      "Epoch 37/50\n",
      "50000/50000 [==============================] - 3s 53us/step - loss: 0.7187 - accuracy: 0.7732 - val_loss: 1.5334 - val_accuracy: 0.4952\n",
      "Epoch 38/50\n",
      "50000/50000 [==============================] - 3s 54us/step - loss: 0.6990 - accuracy: 0.7810 - val_loss: 1.5339 - val_accuracy: 0.4964\n",
      "Epoch 39/50\n",
      "50000/50000 [==============================] - 3s 53us/step - loss: 0.6802 - accuracy: 0.7891 - val_loss: 1.5659 - val_accuracy: 0.4937\n",
      "Epoch 40/50\n",
      "50000/50000 [==============================] - 3s 53us/step - loss: 0.6641 - accuracy: 0.7960 - val_loss: 1.5601 - val_accuracy: 0.4954\n",
      "Epoch 41/50\n",
      "50000/50000 [==============================] - 3s 54us/step - loss: 0.6435 - accuracy: 0.8033 - val_loss: 1.5683 - val_accuracy: 0.4946\n",
      "Epoch 42/50\n",
      "50000/50000 [==============================] - 3s 53us/step - loss: 0.6281 - accuracy: 0.8077 - val_loss: 1.5865 - val_accuracy: 0.4965\n",
      "Epoch 43/50\n",
      "50000/50000 [==============================] - 3s 54us/step - loss: 0.6093 - accuracy: 0.8165 - val_loss: 1.5889 - val_accuracy: 0.4961\n",
      "Epoch 44/50\n",
      "50000/50000 [==============================] - 3s 54us/step - loss: 0.5901 - accuracy: 0.8253 - val_loss: 1.5991 - val_accuracy: 0.4959\n",
      "Epoch 45/50\n",
      "50000/50000 [==============================] - 3s 53us/step - loss: 0.5734 - accuracy: 0.8310 - val_loss: 1.6073 - val_accuracy: 0.4948\n",
      "Epoch 46/50\n"
     ]
    },
    {
     "name": "stdout",
     "output_type": "stream",
     "text": [
      "50000/50000 [==============================] - 3s 54us/step - loss: 0.5577 - accuracy: 0.8372 - val_loss: 1.6276 - val_accuracy: 0.4905\n",
      "Epoch 47/50\n",
      "50000/50000 [==============================] - 3s 53us/step - loss: 0.5394 - accuracy: 0.8435 - val_loss: 1.6396 - val_accuracy: 0.4918\n",
      "Epoch 48/50\n",
      "50000/50000 [==============================] - 3s 54us/step - loss: 0.5223 - accuracy: 0.8511 - val_loss: 1.6637 - val_accuracy: 0.4915\n",
      "Epoch 49/50\n",
      "50000/50000 [==============================] - 3s 54us/step - loss: 0.5044 - accuracy: 0.8589 - val_loss: 1.6630 - val_accuracy: 0.4890\n",
      "Epoch 50/50\n",
      "50000/50000 [==============================] - 3s 53us/step - loss: 0.4908 - accuracy: 0.8629 - val_loss: 1.6803 - val_accuracy: 0.4872\n"
     ]
    }
   ],
   "source": [
    "results = {}\n",
    "\"\"\"Code Here\n",
    "撰寫你的訓練流程並將結果用 dictionary 紀錄\n",
    "\"\"\"\n",
    "model = build_mlp(input_shape=x_train.shape[1:])\n",
    "model.summary()\n",
    "optimizer = keras.optimizers.SGD(lr=LEARNING_RATE, nesterov=True, momentum=MOMENTUM)\n",
    "model.compile(loss=\"categorical_crossentropy\", metrics=[\"accuracy\"], optimizer=optimizer)\n",
    "\n",
    "model.fit(x_train, y_train, \n",
    "          epochs=EPOCHS, \n",
    "          batch_size=BATCH_SIZE, \n",
    "          validation_data=(x_test, y_test), \n",
    "          shuffle=True)\n",
    "\n",
    "# Collect results\n",
    "train_loss = model.history.history[\"loss\"]\n",
    "valid_loss = model.history.history[\"val_loss\"]\n",
    "train_acc = model.history.history[\"accuracy\"]\n",
    "valid_acc = model.history.history[\"val_accuracy\"]"
   ]
  },
  {
   "cell_type": "code",
   "execution_count": 24,
   "metadata": {},
   "outputs": [
    {
     "data": {
      "image/png": "[encoded data removed]",
      "text/plain": [
       "<Figure size 432x288 with 1 Axes>"
      ]
     },
     "metadata": {
      "needs_background": "light"
     },
     "output_type": "display_data"
    },
    {
     "data": {
      "image/png": "[encoded data removed]",
      "text/plain": [
       "<Figure size 432x288 with 1 Axes>"
      ]
     },
     "metadata": {
      "needs_background": "light"
     },
     "output_type": "display_data"
    }
   ],
   "source": [
    "import matplotlib.pyplot as plt\n",
    "%matplotlib inline\n",
    "\"\"\"Code Here\n",
    "將結果繪出\n",
    "\"\"\"\n",
    "plt.plot(range(len(train_loss)), train_loss, label=\"train loss\")\n",
    "plt.plot(range(len(valid_loss)), valid_loss, label=\"valid loss\")\n",
    "plt.legend()\n",
    "plt.title(\"Loss\")\n",
    "plt.show()\n",
    "\n",
    "plt.plot(range(len(train_acc)), train_acc, label=\"train accuracy\")\n",
    "plt.plot(range(len(valid_acc)), valid_acc, label=\"valid accuracy\")\n",
    "plt.legend()\n",
    "plt.title(\"Accuracy\")\n",
    "plt.show()"
   ]
  },
  {
   "cell_type": "code",
   "execution_count": null,
   "metadata": {},
   "outputs": [],
   "source": []
  }
 ],
 "metadata": {
  "kernelspec": {
   "display_name": "Python 3",
   "language": "python",
   "name": "python3"
  },
  "language_info": {
   "codemirror_mode": {
    "name": "ipython",
    "version": 3
   },
   "file_extension": ".py",
   "mimetype": "text/x-python",
   "name": "python",
   "nbconvert_exporter": "python",
   "pygments_lexer": "ipython3",
   "version": "3.7.6"
  }
 },
 "nbformat": 4,
 "nbformat_minor": 2
}
