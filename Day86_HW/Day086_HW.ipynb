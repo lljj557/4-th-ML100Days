{
 "cells": [
  {
   "cell_type": "markdown",
   "metadata": {},
   "source": [
    "## Work\n",
    "1. 試比較 save_best_only 與否的差異\n",
    "2. 請僅存入將 save_weights_only 設定為 True, 並嘗試 reset ipynb 並將模型與權重重新建回並預測 x_test"
   ]
  },
  {
   "cell_type": "code",
   "execution_count": 1,
   "metadata": {},
   "outputs": [
    {
     "name": "stderr",
     "output_type": "stream",
     "text": [
      "Using TensorFlow backend.\n",
      "C:\\Users\\195313\\Anaconda3\\lib\\site-packages\\tensorflow\\python\\framework\\dtypes.py:516: FutureWarning: Passing (type, 1) or '1type' as a synonym of type is deprecated; in a future version of numpy, it will be understood as (type, (1,)) / '(1,)type'.\n",
      "  _np_qint8 = np.dtype([(\"qint8\", np.int8, 1)])\n",
      "C:\\Users\\195313\\Anaconda3\\lib\\site-packages\\tensorflow\\python\\framework\\dtypes.py:517: FutureWarning: Passing (type, 1) or '1type' as a synonym of type is deprecated; in a future version of numpy, it will be understood as (type, (1,)) / '(1,)type'.\n",
      "  _np_quint8 = np.dtype([(\"quint8\", np.uint8, 1)])\n",
      "C:\\Users\\195313\\Anaconda3\\lib\\site-packages\\tensorflow\\python\\framework\\dtypes.py:518: FutureWarning: Passing (type, 1) or '1type' as a synonym of type is deprecated; in a future version of numpy, it will be understood as (type, (1,)) / '(1,)type'.\n",
      "  _np_qint16 = np.dtype([(\"qint16\", np.int16, 1)])\n",
      "C:\\Users\\195313\\Anaconda3\\lib\\site-packages\\tensorflow\\python\\framework\\dtypes.py:519: FutureWarning: Passing (type, 1) or '1type' as a synonym of type is deprecated; in a future version of numpy, it will be understood as (type, (1,)) / '(1,)type'.\n",
      "  _np_quint16 = np.dtype([(\"quint16\", np.uint16, 1)])\n",
      "C:\\Users\\195313\\Anaconda3\\lib\\site-packages\\tensorflow\\python\\framework\\dtypes.py:520: FutureWarning: Passing (type, 1) or '1type' as a synonym of type is deprecated; in a future version of numpy, it will be understood as (type, (1,)) / '(1,)type'.\n",
      "  _np_qint32 = np.dtype([(\"qint32\", np.int32, 1)])\n",
      "C:\\Users\\195313\\Anaconda3\\lib\\site-packages\\tensorflow\\python\\framework\\dtypes.py:525: FutureWarning: Passing (type, 1) or '1type' as a synonym of type is deprecated; in a future version of numpy, it will be understood as (type, (1,)) / '(1,)type'.\n",
      "  np_resource = np.dtype([(\"resource\", np.ubyte, 1)])\n",
      "C:\\Users\\195313\\Anaconda3\\lib\\site-packages\\tensorboard\\compat\\tensorflow_stub\\dtypes.py:541: FutureWarning: Passing (type, 1) or '1type' as a synonym of type is deprecated; in a future version of numpy, it will be understood as (type, (1,)) / '(1,)type'.\n",
      "  _np_qint8 = np.dtype([(\"qint8\", np.int8, 1)])\n",
      "C:\\Users\\195313\\Anaconda3\\lib\\site-packages\\tensorboard\\compat\\tensorflow_stub\\dtypes.py:542: FutureWarning: Passing (type, 1) or '1type' as a synonym of type is deprecated; in a future version of numpy, it will be understood as (type, (1,)) / '(1,)type'.\n",
      "  _np_quint8 = np.dtype([(\"quint8\", np.uint8, 1)])\n",
      "C:\\Users\\195313\\Anaconda3\\lib\\site-packages\\tensorboard\\compat\\tensorflow_stub\\dtypes.py:543: FutureWarning: Passing (type, 1) or '1type' as a synonym of type is deprecated; in a future version of numpy, it will be understood as (type, (1,)) / '(1,)type'.\n",
      "  _np_qint16 = np.dtype([(\"qint16\", np.int16, 1)])\n",
      "C:\\Users\\195313\\Anaconda3\\lib\\site-packages\\tensorboard\\compat\\tensorflow_stub\\dtypes.py:544: FutureWarning: Passing (type, 1) or '1type' as a synonym of type is deprecated; in a future version of numpy, it will be understood as (type, (1,)) / '(1,)type'.\n",
      "  _np_quint16 = np.dtype([(\"quint16\", np.uint16, 1)])\n",
      "C:\\Users\\195313\\Anaconda3\\lib\\site-packages\\tensorboard\\compat\\tensorflow_stub\\dtypes.py:545: FutureWarning: Passing (type, 1) or '1type' as a synonym of type is deprecated; in a future version of numpy, it will be understood as (type, (1,)) / '(1,)type'.\n",
      "  _np_qint32 = np.dtype([(\"qint32\", np.int32, 1)])\n",
      "C:\\Users\\195313\\Anaconda3\\lib\\site-packages\\tensorboard\\compat\\tensorflow_stub\\dtypes.py:550: FutureWarning: Passing (type, 1) or '1type' as a synonym of type is deprecated; in a future version of numpy, it will be understood as (type, (1,)) / '(1,)type'.\n",
      "  np_resource = np.dtype([(\"resource\", np.ubyte, 1)])\n"
     ]
    }
   ],
   "source": [
    "import os\n",
    "import keras\n",
    "\n",
    "# Disable GPU\n",
    "os.environ[\"CUDA_VISIBLE_DEVICES\"] = \"\""
   ]
  },
  {
   "cell_type": "code",
   "execution_count": 2,
   "metadata": {},
   "outputs": [],
   "source": [
    "train, test = keras.datasets.cifar10.load_data()"
   ]
  },
  {
   "cell_type": "code",
   "execution_count": 3,
   "metadata": {},
   "outputs": [],
   "source": [
    "## 資料前處理\n",
    "def preproc_x(x, flatten=True):\n",
    "    x = x / 255.\n",
    "    if flatten:\n",
    "        x = x.reshape((len(x), -1))\n",
    "    return x\n",
    "\n",
    "def preproc_y(y, num_classes=10):\n",
    "    if y.shape[-1] == 1:\n",
    "        y = keras.utils.to_categorical(y, num_classes)\n",
    "    return y    "
   ]
  },
  {
   "cell_type": "code",
   "execution_count": 4,
   "metadata": {},
   "outputs": [],
   "source": [
    "x_train, y_train = train\n",
    "x_test, y_test = test\n",
    "\n",
    "# Preproc the inputs\n",
    "x_train = preproc_x(x_train)\n",
    "x_test = preproc_x(x_test)\n",
    "\n",
    "# Preprc the outputs\n",
    "y_train = preproc_y(y_train)\n",
    "y_test = preproc_y(y_test)"
   ]
  },
  {
   "cell_type": "code",
   "execution_count": 5,
   "metadata": {},
   "outputs": [],
   "source": [
    "from keras.layers import BatchNormalization\n",
    "def build_mlp(input_shape, output_units=10, num_neurons=[512, 256, 128]):\n",
    "    \"\"\"Code Here\n",
    "    建立你的神經網路\n",
    "    \"\"\"\n",
    "    input_layer = keras.layers.Input(input_shape)\n",
    "    \n",
    "    for i, n_units in enumerate(num_neurons):\n",
    "        if i == 0:\n",
    "            x = keras.layers.Dense(units=n_units, \n",
    "                                   activation=\"relu\", \n",
    "                                   name=\"hidden_layer\"+str(i+1))(input_layer)\n",
    "            x = BatchNormalization()(x)\n",
    "        else:\n",
    "            x = keras.layers.Dense(units=n_units, \n",
    "                                   activation=\"relu\", \n",
    "                                   name=\"hidden_layer\"+str(i+1))(x)\n",
    "            x = BatchNormalization()(x)\n",
    "    \n",
    "    out = keras.layers.Dense(units=output_units, activation=\"softmax\", name=\"output\")(x)\n",
    "    \n",
    "    model = keras.models.Model(inputs=[input_layer], outputs=[out])\n",
    "    return model"
   ]
  },
  {
   "cell_type": "code",
   "execution_count": 6,
   "metadata": {},
   "outputs": [],
   "source": [
    "\"\"\"Code Here\n",
    "設定超參數\n",
    "\"\"\"\n",
    "LEARNING_RATE = 1e-3\n",
    "EPOCHS = 50\n",
    "BATCH_SIZE = 1024\n",
    "MOMENTUM = 0.95"
   ]
  },
  {
   "cell_type": "code",
   "execution_count": 11,
   "metadata": {},
   "outputs": [
    {
     "name": "stdout",
     "output_type": "stream",
     "text": [
      "Model: \"model_4\"\n",
      "_________________________________________________________________\n",
      "Layer (type)                 Output Shape              Param #   \n",
      "=================================================================\n",
      "input_4 (InputLayer)         (None, 3072)              0         \n",
      "_________________________________________________________________\n",
      "hidden_layer1 (Dense)        (None, 512)               1573376   \n",
      "_________________________________________________________________\n",
      "batch_normalization_10 (Batc (None, 512)               2048      \n",
      "_________________________________________________________________\n",
      "hidden_layer2 (Dense)        (None, 256)               131328    \n",
      "_________________________________________________________________\n",
      "batch_normalization_11 (Batc (None, 256)               1024      \n",
      "_________________________________________________________________\n",
      "hidden_layer3 (Dense)        (None, 128)               32896     \n",
      "_________________________________________________________________\n",
      "batch_normalization_12 (Batc (None, 128)               512       \n",
      "_________________________________________________________________\n",
      "output (Dense)               (None, 10)                1290      \n",
      "=================================================================\n",
      "Total params: 1,742,474\n",
      "Trainable params: 1,740,682\n",
      "Non-trainable params: 1,792\n",
      "_________________________________________________________________\n",
      "Train on 50000 samples, validate on 10000 samples\n",
      "Epoch 1/50\n",
      "50000/50000 [==============================] - 3s 66us/step - loss: 2.1769 - accuracy: 0.2778 - val_loss: 2.1338 - val_accuracy: 0.1930\n",
      "Epoch 2/50\n",
      "50000/50000 [==============================] - 3s 56us/step - loss: 1.7288 - accuracy: 0.3979 - val_loss: 1.9475 - val_accuracy: 0.3122\n",
      "Epoch 3/50\n",
      "50000/50000 [==============================] - 3s 55us/step - loss: 1.6103 - accuracy: 0.4368 - val_loss: 1.8009 - val_accuracy: 0.3879\n",
      "Epoch 4/50\n",
      "50000/50000 [==============================] - 3s 56us/step - loss: 1.5358 - accuracy: 0.4629 - val_loss: 1.7074 - val_accuracy: 0.4144\n",
      "Epoch 5/50\n",
      "50000/50000 [==============================] - 3s 55us/step - loss: 1.4803 - accuracy: 0.4841 - val_loss: 1.6350 - val_accuracy: 0.4293\n",
      "Epoch 6/50\n",
      "50000/50000 [==============================] - 3s 56us/step - loss: 1.4343 - accuracy: 0.4998 - val_loss: 1.5918 - val_accuracy: 0.4437\n",
      "Epoch 7/50\n",
      "50000/50000 [==============================] - 3s 56us/step - loss: 1.3957 - accuracy: 0.5144 - val_loss: 1.5522 - val_accuracy: 0.4606\n",
      "Epoch 8/50\n",
      "50000/50000 [==============================] - 3s 55us/step - loss: 1.3598 - accuracy: 0.5283 - val_loss: 1.5312 - val_accuracy: 0.4605\n",
      "Epoch 9/50\n",
      "50000/50000 [==============================] - 3s 56us/step - loss: 1.3260 - accuracy: 0.5409 - val_loss: 1.5009 - val_accuracy: 0.4706\n",
      "Epoch 10/50\n",
      "50000/50000 [==============================] - 3s 56us/step - loss: 1.2955 - accuracy: 0.5520 - val_loss: 1.4955 - val_accuracy: 0.4756\n",
      "Epoch 11/50\n",
      "50000/50000 [==============================] - 3s 57us/step - loss: 1.2665 - accuracy: 0.5630 - val_loss: 1.5030 - val_accuracy: 0.4738\n",
      "Epoch 12/50\n",
      "50000/50000 [==============================] - 3s 56us/step - loss: 1.2410 - accuracy: 0.5726 - val_loss: 1.4829 - val_accuracy: 0.4787\n",
      "Epoch 13/50\n",
      "50000/50000 [==============================] - 3s 56us/step - loss: 1.2163 - accuracy: 0.5817 - val_loss: 1.4988 - val_accuracy: 0.4715\n",
      "Epoch 14/50\n",
      "50000/50000 [==============================] - 3s 57us/step - loss: 1.1916 - accuracy: 0.5912 - val_loss: 1.4736 - val_accuracy: 0.4844\n",
      "Epoch 15/50\n",
      "50000/50000 [==============================] - 3s 57us/step - loss: 1.1665 - accuracy: 0.6020 - val_loss: 1.4658 - val_accuracy: 0.4883\n",
      "Epoch 16/50\n",
      "50000/50000 [==============================] - 3s 56us/step - loss: 1.1423 - accuracy: 0.6091 - val_loss: 1.4721 - val_accuracy: 0.4831\n",
      "Epoch 17/50\n",
      "50000/50000 [==============================] - 3s 56us/step - loss: 1.1179 - accuracy: 0.6203 - val_loss: 1.4642 - val_accuracy: 0.4902\n",
      "Epoch 18/50\n",
      "50000/50000 [==============================] - 3s 56us/step - loss: 1.0956 - accuracy: 0.6271 - val_loss: 1.4766 - val_accuracy: 0.4861\n",
      "Epoch 19/50\n",
      "50000/50000 [==============================] - 3s 56us/step - loss: 1.0734 - accuracy: 0.6368 - val_loss: 1.4665 - val_accuracy: 0.4903\n",
      "Epoch 20/50\n",
      "50000/50000 [==============================] - 3s 55us/step - loss: 1.0510 - accuracy: 0.6441 - val_loss: 1.4608 - val_accuracy: 0.4927\n",
      "Epoch 21/50\n",
      "50000/50000 [==============================] - 3s 56us/step - loss: 1.0299 - accuracy: 0.6545 - val_loss: 1.4647 - val_accuracy: 0.4940\n",
      "Epoch 22/50\n",
      "50000/50000 [==============================] - 3s 55us/step - loss: 1.0102 - accuracy: 0.6593 - val_loss: 1.4679 - val_accuracy: 0.4969\n",
      "Epoch 23/50\n",
      "50000/50000 [==============================] - 3s 56us/step - loss: 0.9870 - accuracy: 0.6675 - val_loss: 1.4768 - val_accuracy: 0.4943\n",
      "Epoch 24/50\n",
      "50000/50000 [==============================] - 3s 55us/step - loss: 0.9661 - accuracy: 0.6773 - val_loss: 1.4578 - val_accuracy: 0.4947\n",
      "Epoch 25/50\n",
      "50000/50000 [==============================] - 3s 55us/step - loss: 0.9463 - accuracy: 0.6865 - val_loss: 1.4637 - val_accuracy: 0.5004\n",
      "Epoch 26/50\n",
      "50000/50000 [==============================] - 3s 56us/step - loss: 0.9240 - accuracy: 0.6932 - val_loss: 1.4681 - val_accuracy: 0.4984\n",
      "Epoch 27/50\n",
      "50000/50000 [==============================] - 3s 56us/step - loss: 0.9049 - accuracy: 0.7007 - val_loss: 1.4792 - val_accuracy: 0.4952\n",
      "Epoch 28/50\n",
      "50000/50000 [==============================] - 3s 56us/step - loss: 0.8852 - accuracy: 0.7084 - val_loss: 1.4800 - val_accuracy: 0.4987\n",
      "Epoch 29/50\n",
      "50000/50000 [==============================] - 3s 56us/step - loss: 0.8632 - accuracy: 0.7182 - val_loss: 1.4852 - val_accuracy: 0.5024\n",
      "Epoch 30/50\n",
      "50000/50000 [==============================] - 3s 56us/step - loss: 0.8452 - accuracy: 0.7230 - val_loss: 1.5091 - val_accuracy: 0.4955\n",
      "Epoch 31/50\n",
      "50000/50000 [==============================] - 3s 56us/step - loss: 0.8234 - accuracy: 0.7335 - val_loss: 1.5121 - val_accuracy: 0.4933\n",
      "Epoch 32/50\n",
      "50000/50000 [==============================] - 3s 56us/step - loss: 0.8048 - accuracy: 0.7410 - val_loss: 1.5079 - val_accuracy: 0.4994\n",
      "Epoch 33/50\n",
      "50000/50000 [==============================] - 3s 56us/step - loss: 0.7861 - accuracy: 0.7495 - val_loss: 1.5112 - val_accuracy: 0.4959\n",
      "Epoch 34/50\n",
      "50000/50000 [==============================] - 3s 57us/step - loss: 0.7670 - accuracy: 0.7551 - val_loss: 1.5338 - val_accuracy: 0.4967\n",
      "Epoch 35/50\n",
      "50000/50000 [==============================] - 3s 56us/step - loss: 0.7465 - accuracy: 0.7631 - val_loss: 1.5395 - val_accuracy: 0.4980\n",
      "Epoch 36/50\n",
      "50000/50000 [==============================] - 3s 56us/step - loss: 0.7270 - accuracy: 0.7714 - val_loss: 1.5428 - val_accuracy: 0.4964\n",
      "Epoch 37/50\n",
      "50000/50000 [==============================] - 3s 56us/step - loss: 0.7066 - accuracy: 0.7806 - val_loss: 1.5621 - val_accuracy: 0.4944\n",
      "Epoch 38/50\n",
      "50000/50000 [==============================] - 3s 57us/step - loss: 0.6904 - accuracy: 0.7871 - val_loss: 1.5581 - val_accuracy: 0.4996\n",
      "Epoch 39/50\n",
      "50000/50000 [==============================] - 3s 56us/step - loss: 0.6719 - accuracy: 0.7941 - val_loss: 1.5543 - val_accuracy: 0.4985\n",
      "Epoch 40/50\n",
      "50000/50000 [==============================] - 3s 56us/step - loss: 0.6517 - accuracy: 0.8025 - val_loss: 1.5882 - val_accuracy: 0.4992\n",
      "Epoch 41/50\n",
      "50000/50000 [==============================] - 3s 56us/step - loss: 0.6335 - accuracy: 0.8099 - val_loss: 1.5825 - val_accuracy: 0.4939\n",
      "Epoch 42/50\n",
      "50000/50000 [==============================] - 3s 56us/step - loss: 0.6160 - accuracy: 0.8169 - val_loss: 1.5999 - val_accuracy: 0.4942\n",
      "Epoch 43/50\n",
      "50000/50000 [==============================] - 3s 56us/step - loss: 0.5980 - accuracy: 0.8231 - val_loss: 1.6065 - val_accuracy: 0.4963\n",
      "Epoch 44/50\n",
      "50000/50000 [==============================] - 3s 56us/step - loss: 0.5812 - accuracy: 0.8287 - val_loss: 1.6150 - val_accuracy: 0.4959\n",
      "Epoch 45/50\n",
      "50000/50000 [==============================] - 3s 56us/step - loss: 0.5628 - accuracy: 0.8391 - val_loss: 1.6661 - val_accuracy: 0.4937\n",
      "Epoch 46/50\n"
     ]
    },
    {
     "name": "stdout",
     "output_type": "stream",
     "text": [
      "50000/50000 [==============================] - 3s 56us/step - loss: 0.5469 - accuracy: 0.8423 - val_loss: 1.6270 - val_accuracy: 0.5003\n",
      "Epoch 47/50\n",
      "50000/50000 [==============================] - 3s 56us/step - loss: 0.5300 - accuracy: 0.8493 - val_loss: 1.6570 - val_accuracy: 0.4940\n",
      "Epoch 48/50\n",
      "50000/50000 [==============================] - 3s 57us/step - loss: 0.5125 - accuracy: 0.8569 - val_loss: 1.6617 - val_accuracy: 0.4953\n",
      "Epoch 49/50\n",
      "50000/50000 [==============================] - 3s 56us/step - loss: 0.4952 - accuracy: 0.8640 - val_loss: 1.6721 - val_accuracy: 0.4957\n",
      "Epoch 50/50\n",
      "50000/50000 [==============================] - 3s 56us/step - loss: 0.4790 - accuracy: 0.8706 - val_loss: 1.6897 - val_accuracy: 0.4922\n",
      "10000/10000 [==============================] - 1s 67us/step\n"
     ]
    }
   ],
   "source": [
    "# 載入 Callbacks\n",
    "\"\"\"Code Here\n",
    "設定 callbacks: model checkpoint\n",
    "\"\"\"\n",
    "from keras.callbacks import ModelCheckpoint\n",
    "\n",
    "model_ckpt = ModelCheckpoint(filepath=\"./tmp.h5\", \n",
    "                             monitor=\"val_loss\", \n",
    "                             save_weights_only=False)\n",
    "results = {}\n",
    "\"\"\"Code Here\n",
    "撰寫你的訓練流程並將結果用 dictionary 紀錄\n",
    "\"\"\"\n",
    "model = build_mlp(input_shape=x_train.shape[1:])\n",
    "model.summary()\n",
    "optimizer = keras.optimizers.SGD(lr=LEARNING_RATE, nesterov=True, momentum=MOMENTUM)\n",
    "model.compile(loss=\"categorical_crossentropy\", metrics=[\"accuracy\"], optimizer=optimizer)\n",
    "\n",
    "model.fit(x_train, y_train, \n",
    "          epochs=EPOCHS, \n",
    "          batch_size=BATCH_SIZE, \n",
    "          validation_data=(x_test, y_test), \n",
    "          shuffle=True,\n",
    "          callbacks=[model_ckpt]\n",
    "         )\n",
    "\n",
    "# Collect results\n",
    "train_loss = model.history.history[\"loss\"]\n",
    "valid_loss = model.history.history[\"val_loss\"]\n",
    "train_acc = model.history.history[\"accuracy\"]\n",
    "valid_acc = model.history.history[\"val_accuracy\"]\n",
    "\n",
    "# Load back\n",
    "model = keras.models.load_model(\"./tmp.h5\")\n",
    "loss_loadback, acc_loadback = model.evaluate(x_test, y_test)"
   ]
  },
  {
   "cell_type": "code",
   "execution_count": 12,
   "metadata": {
    "scrolled": true
   },
   "outputs": [
    {
     "data": {
      "image/png": "[encoded data removed]",
      "text/plain": [
       "<Figure size 432x288 with 1 Axes>"
      ]
     },
     "metadata": {
      "needs_background": "light"
     },
     "output_type": "display_data"
    },
    {
     "data": {
      "image/png": "[encoded data removed]",
      "text/plain": [
       "<Figure size 432x288 with 1 Axes>"
      ]
     },
     "metadata": {
      "needs_background": "light"
     },
     "output_type": "display_data"
    }
   ],
   "source": [
    "import matplotlib.pyplot as plt\n",
    "%matplotlib inline\n",
    "\"\"\"Code Here\n",
    "將結果繪出\n",
    "\"\"\"\n",
    "plt.plot(range(len(train_loss)), train_loss, label=\"train loss\")\n",
    "plt.plot(range(len(valid_loss)), valid_loss, label=\"valid loss\")\n",
    "plt.hlines(y=loss_loadback, xmin=0, xmax=len(train_loss), colors='r', linestyles='--')\n",
    "plt.legend()\n",
    "plt.title(\"Loss\")\n",
    "plt.show()\n",
    "\n",
    "plt.plot(range(len(train_acc)), train_acc, label=\"train accuracy\")\n",
    "plt.plot(range(len(valid_acc)), valid_acc, label=\"valid accuracy\")\n",
    "plt.hlines(y=acc_loadback, xmin=0, xmax=len(train_loss), colors='r', linestyles='--')\n",
    "plt.legend()\n",
    "plt.title(\"Accuracy\")\n",
    "plt.show()"
   ]
  },
  {
   "cell_type": "code",
   "execution_count": null,
   "metadata": {},
   "outputs": [],
   "source": []
  }
 ],
 "metadata": {
  "kernelspec": {
   "display_name": "Python 3",
   "language": "python",
   "name": "python3"
  },
  "language_info": {
   "codemirror_mode": {
    "name": "ipython",
    "version": 3
   },
   "file_extension": ".py",
   "mimetype": "text/x-python",
   "name": "python",
   "nbconvert_exporter": "python",
   "pygments_lexer": "ipython3",
   "version": "3.7.6"
  }
 },
 "nbformat": 4,
 "nbformat_minor": 2
}
