{
 "cells": [
  {
   "cell_type": "markdown",
   "metadata": {},
   "source": [
    "## 範例重點\n",
    "* 學習如何在 keras 中加入 model checkpoint\n",
    "* 知道如何設定監控目標\n",
    "* 比較使用最佳與非最佳參數時的 performance"
   ]
  },
  {
   "cell_type": "code",
   "execution_count": 1,
   "metadata": {},
   "outputs": [
    {
     "name": "stderr",
     "output_type": "stream",
     "text": [
      "Using TensorFlow backend.\n",
      "C:\\Users\\195313\\Anaconda3\\lib\\site-packages\\tensorflow\\python\\framework\\dtypes.py:516: FutureWarning: Passing (type, 1) or '1type' as a synonym of type is deprecated; in a future version of numpy, it will be understood as (type, (1,)) / '(1,)type'.\n",
      "  _np_qint8 = np.dtype([(\"qint8\", np.int8, 1)])\n",
      "C:\\Users\\195313\\Anaconda3\\lib\\site-packages\\tensorflow\\python\\framework\\dtypes.py:517: FutureWarning: Passing (type, 1) or '1type' as a synonym of type is deprecated; in a future version of numpy, it will be understood as (type, (1,)) / '(1,)type'.\n",
      "  _np_quint8 = np.dtype([(\"quint8\", np.uint8, 1)])\n",
      "C:\\Users\\195313\\Anaconda3\\lib\\site-packages\\tensorflow\\python\\framework\\dtypes.py:518: FutureWarning: Passing (type, 1) or '1type' as a synonym of type is deprecated; in a future version of numpy, it will be understood as (type, (1,)) / '(1,)type'.\n",
      "  _np_qint16 = np.dtype([(\"qint16\", np.int16, 1)])\n",
      "C:\\Users\\195313\\Anaconda3\\lib\\site-packages\\tensorflow\\python\\framework\\dtypes.py:519: FutureWarning: Passing (type, 1) or '1type' as a synonym of type is deprecated; in a future version of numpy, it will be understood as (type, (1,)) / '(1,)type'.\n",
      "  _np_quint16 = np.dtype([(\"quint16\", np.uint16, 1)])\n",
      "C:\\Users\\195313\\Anaconda3\\lib\\site-packages\\tensorflow\\python\\framework\\dtypes.py:520: FutureWarning: Passing (type, 1) or '1type' as a synonym of type is deprecated; in a future version of numpy, it will be understood as (type, (1,)) / '(1,)type'.\n",
      "  _np_qint32 = np.dtype([(\"qint32\", np.int32, 1)])\n",
      "C:\\Users\\195313\\Anaconda3\\lib\\site-packages\\tensorflow\\python\\framework\\dtypes.py:525: FutureWarning: Passing (type, 1) or '1type' as a synonym of type is deprecated; in a future version of numpy, it will be understood as (type, (1,)) / '(1,)type'.\n",
      "  np_resource = np.dtype([(\"resource\", np.ubyte, 1)])\n",
      "C:\\Users\\195313\\Anaconda3\\lib\\site-packages\\tensorboard\\compat\\tensorflow_stub\\dtypes.py:541: FutureWarning: Passing (type, 1) or '1type' as a synonym of type is deprecated; in a future version of numpy, it will be understood as (type, (1,)) / '(1,)type'.\n",
      "  _np_qint8 = np.dtype([(\"qint8\", np.int8, 1)])\n",
      "C:\\Users\\195313\\Anaconda3\\lib\\site-packages\\tensorboard\\compat\\tensorflow_stub\\dtypes.py:542: FutureWarning: Passing (type, 1) or '1type' as a synonym of type is deprecated; in a future version of numpy, it will be understood as (type, (1,)) / '(1,)type'.\n",
      "  _np_quint8 = np.dtype([(\"quint8\", np.uint8, 1)])\n",
      "C:\\Users\\195313\\Anaconda3\\lib\\site-packages\\tensorboard\\compat\\tensorflow_stub\\dtypes.py:543: FutureWarning: Passing (type, 1) or '1type' as a synonym of type is deprecated; in a future version of numpy, it will be understood as (type, (1,)) / '(1,)type'.\n",
      "  _np_qint16 = np.dtype([(\"qint16\", np.int16, 1)])\n",
      "C:\\Users\\195313\\Anaconda3\\lib\\site-packages\\tensorboard\\compat\\tensorflow_stub\\dtypes.py:544: FutureWarning: Passing (type, 1) or '1type' as a synonym of type is deprecated; in a future version of numpy, it will be understood as (type, (1,)) / '(1,)type'.\n",
      "  _np_quint16 = np.dtype([(\"quint16\", np.uint16, 1)])\n",
      "C:\\Users\\195313\\Anaconda3\\lib\\site-packages\\tensorboard\\compat\\tensorflow_stub\\dtypes.py:545: FutureWarning: Passing (type, 1) or '1type' as a synonym of type is deprecated; in a future version of numpy, it will be understood as (type, (1,)) / '(1,)type'.\n",
      "  _np_qint32 = np.dtype([(\"qint32\", np.int32, 1)])\n",
      "C:\\Users\\195313\\Anaconda3\\lib\\site-packages\\tensorboard\\compat\\tensorflow_stub\\dtypes.py:550: FutureWarning: Passing (type, 1) or '1type' as a synonym of type is deprecated; in a future version of numpy, it will be understood as (type, (1,)) / '(1,)type'.\n",
      "  np_resource = np.dtype([(\"resource\", np.ubyte, 1)])\n"
     ]
    }
   ],
   "source": [
    "import os\n",
    "import keras\n",
    "\n",
    "# 本範例不需使用 GPU, 將 GPU 設定為 \"無\"\n",
    "os.environ[\"CUDA_VISIBLE_DEVICES\"] = \"\""
   ]
  },
  {
   "cell_type": "code",
   "execution_count": 2,
   "metadata": {},
   "outputs": [],
   "source": [
    "train, test = keras.datasets.cifar10.load_data()"
   ]
  },
  {
   "cell_type": "code",
   "execution_count": 3,
   "metadata": {},
   "outputs": [],
   "source": [
    "## 資料前處理\n",
    "def preproc_x(x, flatten=True):\n",
    "    x = x / 255.\n",
    "    if flatten:\n",
    "        x = x.reshape((len(x), -1))\n",
    "    return x\n",
    "\n",
    "def preproc_y(y, num_classes=10):\n",
    "    if y.shape[-1] == 1:\n",
    "        y = keras.utils.to_categorical(y, num_classes)\n",
    "    return y    "
   ]
  },
  {
   "cell_type": "code",
   "execution_count": 4,
   "metadata": {},
   "outputs": [],
   "source": [
    "x_train, y_train = train\n",
    "x_test, y_test = test\n",
    "\n",
    "# 資料前處理 - X 標準化\n",
    "x_train = preproc_x(x_train)\n",
    "x_test = preproc_x(x_test)\n",
    "\n",
    "# 資料前處理 -Y 轉成 onehot\n",
    "y_train = preproc_y(y_train)\n",
    "y_test = preproc_y(y_test)"
   ]
  },
  {
   "cell_type": "code",
   "execution_count": 5,
   "metadata": {},
   "outputs": [],
   "source": [
    "from keras.layers import BatchNormalization\n",
    "\n",
    "\"\"\"\n",
    "建立神經網路，並加入 BN layer\n",
    "\"\"\"\n",
    "def build_mlp(input_shape, output_units=10, num_neurons=[512, 256, 128]):\n",
    "    input_layer = keras.layers.Input(input_shape)\n",
    "    \n",
    "    for i, n_units in enumerate(num_neurons):\n",
    "        if i == 0:\n",
    "            x = keras.layers.Dense(units=n_units, \n",
    "                                   activation=\"relu\", \n",
    "                                   name=\"hidden_layer\"+str(i+1))(input_layer)\n",
    "            x = BatchNormalization()(x)\n",
    "        else:\n",
    "            x = keras.layers.Dense(units=n_units, \n",
    "                                   activation=\"relu\", \n",
    "                                   name=\"hidden_layer\"+str(i+1))(x)\n",
    "            x = BatchNormalization()(x)\n",
    "    \n",
    "    out = keras.layers.Dense(units=output_units, activation=\"softmax\", name=\"output\")(x)\n",
    "    \n",
    "    model = keras.models.Model(inputs=[input_layer], outputs=[out])\n",
    "    return model"
   ]
  },
  {
   "cell_type": "code",
   "execution_count": 6,
   "metadata": {},
   "outputs": [],
   "source": [
    "## 超參數設定\n",
    "LEARNING_RATE = 1e-3\n",
    "EPOCHS = 50\n",
    "BATCH_SIZE = 1024\n",
    "MOMENTUM = 0.95"
   ]
  },
  {
   "cell_type": "code",
   "execution_count": 7,
   "metadata": {},
   "outputs": [],
   "source": [
    "\"\"\"\n",
    "# 載入 Callbacks, 並將監控目標設為 validation loss, 且只存最佳參數時的模型\n",
    "\"\"\"\n",
    "from keras.callbacks import ModelCheckpoint\n",
    "\n",
    "model_ckpt = ModelCheckpoint(filepath=\"./tmp.h5\", \n",
    "                             monitor=\"val_loss\", \n",
    "                             save_best_only=True)"
   ]
  },
  {
   "cell_type": "code",
   "execution_count": 9,
   "metadata": {
    "scrolled": true
   },
   "outputs": [
    {
     "name": "stdout",
     "output_type": "stream",
     "text": [
      "Model: \"model_2\"\n",
      "_________________________________________________________________\n",
      "Layer (type)                 Output Shape              Param #   \n",
      "=================================================================\n",
      "input_2 (InputLayer)         (None, 3072)              0         \n",
      "_________________________________________________________________\n",
      "hidden_layer1 (Dense)        (None, 512)               1573376   \n",
      "_________________________________________________________________\n",
      "batch_normalization_4 (Batch (None, 512)               2048      \n",
      "_________________________________________________________________\n",
      "hidden_layer2 (Dense)        (None, 256)               131328    \n",
      "_________________________________________________________________\n",
      "batch_normalization_5 (Batch (None, 256)               1024      \n",
      "_________________________________________________________________\n",
      "hidden_layer3 (Dense)        (None, 128)               32896     \n",
      "_________________________________________________________________\n",
      "batch_normalization_6 (Batch (None, 128)               512       \n",
      "_________________________________________________________________\n",
      "output (Dense)               (None, 10)                1290      \n",
      "=================================================================\n",
      "Total params: 1,742,474\n",
      "Trainable params: 1,740,682\n",
      "Non-trainable params: 1,792\n",
      "_________________________________________________________________\n",
      "Train on 50000 samples, validate on 10000 samples\n",
      "Epoch 1/50\n",
      "50000/50000 [==============================] - 3s 62us/step - loss: 2.2201 - accuracy: 0.2718 - val_loss: 2.1856 - val_accuracy: 0.1474\n",
      "Epoch 2/50\n",
      "50000/50000 [==============================] - 3s 54us/step - loss: 1.7509 - accuracy: 0.3907 - val_loss: 2.0010 - val_accuracy: 0.2543\n",
      "Epoch 3/50\n",
      "50000/50000 [==============================] - 3s 54us/step - loss: 1.6221 - accuracy: 0.4319 - val_loss: 1.8525 - val_accuracy: 0.3405\n",
      "Epoch 4/50\n",
      "50000/50000 [==============================] - 3s 54us/step - loss: 1.5439 - accuracy: 0.4610 - val_loss: 1.7311 - val_accuracy: 0.3930\n",
      "Epoch 5/50\n",
      "50000/50000 [==============================] - 3s 53us/step - loss: 1.4876 - accuracy: 0.4793 - val_loss: 1.6462 - val_accuracy: 0.4211\n",
      "Epoch 6/50\n",
      "50000/50000 [==============================] - 3s 53us/step - loss: 1.4417 - accuracy: 0.4965 - val_loss: 1.6105 - val_accuracy: 0.4329\n",
      "Epoch 7/50\n",
      "50000/50000 [==============================] - 3s 53us/step - loss: 1.4010 - accuracy: 0.5107 - val_loss: 1.5454 - val_accuracy: 0.4529\n",
      "Epoch 8/50\n",
      "50000/50000 [==============================] - 3s 53us/step - loss: 1.3658 - accuracy: 0.5248 - val_loss: 1.5242 - val_accuracy: 0.4588\n",
      "Epoch 9/50\n",
      "50000/50000 [==============================] - 3s 53us/step - loss: 1.3339 - accuracy: 0.5350 - val_loss: 1.5145 - val_accuracy: 0.4612\n",
      "Epoch 10/50\n",
      "50000/50000 [==============================] - 3s 53us/step - loss: 1.3051 - accuracy: 0.5458 - val_loss: 1.4987 - val_accuracy: 0.4684\n",
      "Epoch 11/50\n",
      "50000/50000 [==============================] - 3s 53us/step - loss: 1.2772 - accuracy: 0.5553 - val_loss: 1.4795 - val_accuracy: 0.4764\n",
      "Epoch 12/50\n",
      "50000/50000 [==============================] - 3s 53us/step - loss: 1.2488 - accuracy: 0.5681 - val_loss: 1.4812 - val_accuracy: 0.4736\n",
      "Epoch 13/50\n",
      "50000/50000 [==============================] - 3s 53us/step - loss: 1.2235 - accuracy: 0.5766 - val_loss: 1.4806 - val_accuracy: 0.4764\n",
      "Epoch 14/50\n",
      "50000/50000 [==============================] - 3s 53us/step - loss: 1.1979 - accuracy: 0.5868 - val_loss: 1.4837 - val_accuracy: 0.4765\n",
      "Epoch 15/50\n",
      "50000/50000 [==============================] - 3s 54us/step - loss: 1.1732 - accuracy: 0.5944 - val_loss: 1.4706 - val_accuracy: 0.4791\n",
      "Epoch 16/50\n",
      "50000/50000 [==============================] - 3s 53us/step - loss: 1.1493 - accuracy: 0.6066 - val_loss: 1.4665 - val_accuracy: 0.4819\n",
      "Epoch 17/50\n",
      "50000/50000 [==============================] - 3s 53us/step - loss: 1.1269 - accuracy: 0.6145 - val_loss: 1.4646 - val_accuracy: 0.4832\n",
      "Epoch 18/50\n",
      "50000/50000 [==============================] - 3s 53us/step - loss: 1.1039 - accuracy: 0.6229 - val_loss: 1.4599 - val_accuracy: 0.4892\n",
      "Epoch 19/50\n",
      "50000/50000 [==============================] - 3s 53us/step - loss: 1.0811 - accuracy: 0.6311 - val_loss: 1.4788 - val_accuracy: 0.4843\n",
      "Epoch 20/50\n",
      "50000/50000 [==============================] - 3s 53us/step - loss: 1.0579 - accuracy: 0.6392 - val_loss: 1.4611 - val_accuracy: 0.4892\n",
      "Epoch 21/50\n",
      "50000/50000 [==============================] - 3s 53us/step - loss: 1.0375 - accuracy: 0.6472 - val_loss: 1.4625 - val_accuracy: 0.4919\n",
      "Epoch 22/50\n",
      "50000/50000 [==============================] - 3s 53us/step - loss: 1.0153 - accuracy: 0.6547 - val_loss: 1.4759 - val_accuracy: 0.4872\n",
      "Epoch 23/50\n",
      "50000/50000 [==============================] - 3s 53us/step - loss: 0.9934 - accuracy: 0.6641 - val_loss: 1.4735 - val_accuracy: 0.4885\n",
      "Epoch 24/50\n",
      "50000/50000 [==============================] - 3s 53us/step - loss: 0.9719 - accuracy: 0.6726 - val_loss: 1.4790 - val_accuracy: 0.4882\n",
      "Epoch 25/50\n",
      "50000/50000 [==============================] - 3s 53us/step - loss: 0.9498 - accuracy: 0.6821 - val_loss: 1.4830 - val_accuracy: 0.4867\n",
      "Epoch 26/50\n",
      "50000/50000 [==============================] - 3s 53us/step - loss: 0.9294 - accuracy: 0.6882 - val_loss: 1.4706 - val_accuracy: 0.4930\n",
      "Epoch 27/50\n",
      "50000/50000 [==============================] - 3s 53us/step - loss: 0.9095 - accuracy: 0.6971 - val_loss: 1.4861 - val_accuracy: 0.4935\n",
      "Epoch 28/50\n",
      "50000/50000 [==============================] - 3s 53us/step - loss: 0.8871 - accuracy: 0.7067 - val_loss: 1.4886 - val_accuracy: 0.4942\n",
      "Epoch 29/50\n",
      "50000/50000 [==============================] - 3s 53us/step - loss: 0.8678 - accuracy: 0.7134 - val_loss: 1.4915 - val_accuracy: 0.4917\n",
      "Epoch 30/50\n",
      "50000/50000 [==============================] - 3s 53us/step - loss: 0.8493 - accuracy: 0.7214 - val_loss: 1.5096 - val_accuracy: 0.4900\n",
      "Epoch 31/50\n",
      "50000/50000 [==============================] - 3s 53us/step - loss: 0.8293 - accuracy: 0.7288 - val_loss: 1.5010 - val_accuracy: 0.4917\n",
      "Epoch 32/50\n",
      "50000/50000 [==============================] - 3s 53us/step - loss: 0.8075 - accuracy: 0.7378 - val_loss: 1.5142 - val_accuracy: 0.4917\n",
      "Epoch 33/50\n",
      "50000/50000 [==============================] - 3s 53us/step - loss: 0.7886 - accuracy: 0.7452 - val_loss: 1.5238 - val_accuracy: 0.4920\n",
      "Epoch 34/50\n",
      "50000/50000 [==============================] - 3s 56us/step - loss: 0.7693 - accuracy: 0.7526 - val_loss: 1.5249 - val_accuracy: 0.4955\n",
      "Epoch 35/50\n",
      "50000/50000 [==============================] - 3s 56us/step - loss: 0.7495 - accuracy: 0.7619 - val_loss: 1.5301 - val_accuracy: 0.4938\n",
      "Epoch 36/50\n",
      "50000/50000 [==============================] - 3s 54us/step - loss: 0.7311 - accuracy: 0.7680 - val_loss: 1.5396 - val_accuracy: 0.4925\n",
      "Epoch 37/50\n",
      "50000/50000 [==============================] - 3s 54us/step - loss: 0.7120 - accuracy: 0.7746 - val_loss: 1.5625 - val_accuracy: 0.4887\n",
      "Epoch 38/50\n",
      "50000/50000 [==============================] - 3s 54us/step - loss: 0.6928 - accuracy: 0.7834 - val_loss: 1.5572 - val_accuracy: 0.4932\n",
      "Epoch 39/50\n",
      "50000/50000 [==============================] - 3s 54us/step - loss: 0.6762 - accuracy: 0.7894 - val_loss: 1.5625 - val_accuracy: 0.4899\n",
      "Epoch 40/50\n",
      "50000/50000 [==============================] - 3s 53us/step - loss: 0.6554 - accuracy: 0.7980 - val_loss: 1.5721 - val_accuracy: 0.4898\n",
      "Epoch 41/50\n",
      "50000/50000 [==============================] - 3s 53us/step - loss: 0.6378 - accuracy: 0.8046 - val_loss: 1.6061 - val_accuracy: 0.4844\n",
      "Epoch 42/50\n",
      "50000/50000 [==============================] - 3s 53us/step - loss: 0.6209 - accuracy: 0.8119 - val_loss: 1.6135 - val_accuracy: 0.4811\n",
      "Epoch 43/50\n",
      "50000/50000 [==============================] - 3s 53us/step - loss: 0.6047 - accuracy: 0.8186 - val_loss: 1.6136 - val_accuracy: 0.4892\n",
      "Epoch 44/50\n",
      "50000/50000 [==============================] - 3s 53us/step - loss: 0.5856 - accuracy: 0.8249 - val_loss: 1.6238 - val_accuracy: 0.4882\n",
      "Epoch 45/50\n",
      "50000/50000 [==============================] - 3s 53us/step - loss: 0.5697 - accuracy: 0.8301 - val_loss: 1.6470 - val_accuracy: 0.4768\n",
      "Epoch 46/50\n"
     ]
    },
    {
     "name": "stdout",
     "output_type": "stream",
     "text": [
      "50000/50000 [==============================] - 3s 53us/step - loss: 0.5523 - accuracy: 0.8385 - val_loss: 1.6510 - val_accuracy: 0.4854\n",
      "Epoch 47/50\n",
      "50000/50000 [==============================] - 3s 53us/step - loss: 0.5341 - accuracy: 0.8460 - val_loss: 1.6822 - val_accuracy: 0.4846\n",
      "Epoch 48/50\n",
      "50000/50000 [==============================] - 3s 53us/step - loss: 0.5178 - accuracy: 0.8523 - val_loss: 1.6814 - val_accuracy: 0.4806\n",
      "Epoch 49/50\n",
      "50000/50000 [==============================] - 3s 53us/step - loss: 0.5009 - accuracy: 0.8593 - val_loss: 1.6906 - val_accuracy: 0.4852\n",
      "Epoch 50/50\n",
      "50000/50000 [==============================] - 3s 53us/step - loss: 0.4851 - accuracy: 0.8656 - val_loss: 1.6957 - val_accuracy: 0.4886\n",
      "10000/10000 [==============================] - 1s 65us/step\n"
     ]
    }
   ],
   "source": [
    "model = build_mlp(input_shape=x_train.shape[1:])\n",
    "model.summary()\n",
    "optimizer = keras.optimizers.SGD(lr=LEARNING_RATE, nesterov=True, momentum=MOMENTUM)\n",
    "model.compile(loss=\"categorical_crossentropy\", metrics=[\"accuracy\"], optimizer=optimizer)\n",
    "\n",
    "model.fit(x_train, y_train, \n",
    "          epochs=EPOCHS, \n",
    "          batch_size=BATCH_SIZE, \n",
    "          validation_data=(x_test, y_test), \n",
    "          shuffle=True,\n",
    "          callbacks=[model_ckpt]\n",
    "         )\n",
    "\n",
    "# Collect results\n",
    "train_loss = model.history.history[\"loss\"]\n",
    "valid_loss = model.history.history[\"val_loss\"]\n",
    "train_acc = model.history.history[\"accuracy\"]\n",
    "valid_acc = model.history.history[\"val_accuracy\"]\n",
    "\n",
    "# Load back\n",
    "model = keras.models.load_model(\"./tmp.h5\")\n",
    "loss_loadback, acc_loadback = model.evaluate(x_test, y_test)"
   ]
  },
  {
   "cell_type": "code",
   "execution_count": 10,
   "metadata": {},
   "outputs": [
    {
     "data": {
      "image/png": "[encoded data removed]",
      "text/plain": [
       "<Figure size 432x288 with 1 Axes>"
      ]
     },
     "metadata": {
      "needs_background": "light"
     },
     "output_type": "display_data"
    },
    {
     "data": {
      "image/png": "[encoded data removed]",
      "text/plain": [
       "<Figure size 432x288 with 1 Axes>"
      ]
     },
     "metadata": {
      "needs_background": "light"
     },
     "output_type": "display_data"
    }
   ],
   "source": [
    "import matplotlib.pyplot as plt\n",
    "%matplotlib inline\n",
    "\n",
    "plt.plot(range(len(train_loss)), train_loss, label=\"train loss\")\n",
    "plt.plot(range(len(valid_loss)), valid_loss, label=\"valid loss\")\n",
    "plt.hlines(y=loss_loadback, xmin=0, xmax=len(train_loss), colors='r', linestyles='--')\n",
    "plt.legend()\n",
    "plt.title(\"Loss\")\n",
    "plt.show()\n",
    "\n",
    "plt.plot(range(len(train_acc)), train_acc, label=\"train accuracy\")\n",
    "plt.plot(range(len(valid_acc)), valid_acc, label=\"valid accuracy\")\n",
    "plt.hlines(y=acc_loadback, xmin=0, xmax=len(train_loss), colors='r', linestyles='--')\n",
    "plt.legend()\n",
    "plt.title(\"Accuracy\")\n",
    "plt.show()"
   ]
  },
  {
   "cell_type": "markdown",
   "metadata": {},
   "source": [
    "## Work\n",
    "1. 試比較 save_best_only 與否的差異\n",
    "2. 請僅存入將 save_weights_only 設定為 True, 並嘗試 reset ipynb 並將模型與權重重新建回並預測 x_test"
   ]
  }
 ],
 "metadata": {
  "kernelspec": {
   "display_name": "Python 3",
   "language": "python",
   "name": "python3"
  },
  "language_info": {
   "codemirror_mode": {
    "name": "ipython",
    "version": 3
   },
   "file_extension": ".py",
   "mimetype": "text/x-python",
   "name": "python",
   "nbconvert_exporter": "python",
   "pygments_lexer": "ipython3",
   "version": "3.7.6"
  }
 },
 "nbformat": 4,
 "nbformat_minor": 2
}
